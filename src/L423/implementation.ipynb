{
 "cells": [
  {
   "cell_type": "markdown",
   "metadata": {},
   "source": [
    "# Setup"
   ]
  },
  {
   "cell_type": "code",
   "execution_count": 1,
   "metadata": {},
   "outputs": [],
   "source": [
    "import torch\n",
    "from conex import *\n",
    "from pymonntorch import *\n",
    "\n",
    "import numpy as np\n",
    "import pandas as pd\n",
    "from matplotlib import pyplot as plt\n",
    "from PIL import Image\n",
    "\n",
    "from tqdm import tqdm\n",
    "\n",
    "from torchvision import transforms\n",
    "import torchvision\n",
    "from torch.utils.data import DataLoader\n",
    "\n",
    "from conex.helpers.filters import DoGFilter"
   ]
  },
  {
   "cell_type": "code",
   "execution_count": 2,
   "metadata": {},
   "outputs": [],
   "source": [
    "def load_image(path,size = None):\n",
    "    img = cv2.imread(path)\n",
    "    if(size):\n",
    "        img = cv2.resize(img,size)\n",
    "    return torch.tensor(img[:,:,0],dtype=torch.float32)\n",
    "\n",
    "def show_image(image,normal=False):\n",
    "    plt.axis(\"off\")\n",
    "    if(normal):\n",
    "        plt.imshow(image,cmap='gray',vmin=0,vmax=255)\n",
    "    else:\n",
    "        plt.imshow(image,cmap='gray')\n",
    "    plt.show()\n",
    "    \n",
    "\n",
    "def show_filters(weight):\n",
    "    fig,axes = plt.subplots(1,weight.shape[0])\n",
    "    fig.set_size_inches(5*weight.shape[0], 5)\n",
    "    # fig.suptitle(f'plots of synaptic share weights for d = {weight.shape[0]}')\n",
    "    for i in range(weight.shape[0]):\n",
    "        axes[i].imshow(weight[i][0],cmap='gray')\n",
    "        axes[i].axis('off')\n",
    "        \n",
    "        \n",
    "def show_images(imgs,title,count):\n",
    "    fig,axes = plt.subplots(1,count)\n",
    "    fig.set_size_inches(5*count, 5)\n",
    "    plt.text(x=0.5, y=0.94, s=title, fontsize=28, ha=\"center\", transform=fig.transFigure)\n",
    "    for i in range(count):\n",
    "        axes[i].imshow(imgs[i][0][0],cmap='gray')\n",
    "        axes[i].axis('off')\n",
    "\n",
    "\n",
    "def confidence_crop_interspace(inp_width, inp_height, window_width, window_height):\n",
    "    x1 = window_width//2\n",
    "    x2 = (inp_width - 1) - (window_width//2)\n",
    "    y1 = window_height//2 \n",
    "    y2 = (inp_height - 1) - (window_height//2)\n",
    "\n",
    "    center_x = random.randint(x1, x2)\n",
    "    center_y = random.randint(y1, y2)\n",
    "    center_coordinates = [center_x, center_y]\n",
    "    top_left_x = center_x - (window_width//2)\n",
    "    top_left_y = center_y - (window_height//2)\n",
    "    top_left_coordinates = [top_left_x, top_left_y]\n",
    "    coordinates = [center_coordinates, top_left_coordinates]\n",
    "\n",
    "    return coordinates\n",
    "\n",
    "        \n"
   ]
  },
  {
   "cell_type": "markdown",
   "metadata": {},
   "source": [
    "# prioritize behaviors"
   ]
  },
  {
   "cell_type": "code",
   "execution_count": 3,
   "metadata": {},
   "outputs": [
    {
     "data": {
      "text/plain": [
       "{180: AveragePool2D(current_coef=1,),\n",
       " 220: SimpleDendriteStructure(Proximal_max_delay=1,Distal_max_delay=1,Apical_max_delay=None,proximal_min_delay=0,distal_min_delay=0,apical_min_delay=None,),\n",
       " 240: SimpleDendriteComputation(I_tau=None,apical_provocativeness=None,distal_provocativeness=None,),\n",
       " 260: LIF(R=1,tau=10,threshold=-13,v_reset=-70,v_rest=-65,init_v=None,init_s=None,),\n",
       " 280: InherentNoise(mode=rand,scale=1,offset=0,),\n",
       " 320: SpikeNdDataset(dataloader=sensory,ndim_sensory=2,ndim_location=2,have_location=False,have_sensory=True,have_label=True,silent_interval=0,instance_duration=1,loop=True,),\n",
       " 340: Fire(),\n",
       " 380: NeuronAxon(max_delay=1,proximal_min_delay=0,distal_min_delay=0,apical_min_delay=0,have_trace=None,)}"
      ]
     },
     "execution_count": 3,
     "metadata": {},
     "output_type": "execute_result"
    }
   ],
   "source": [
    "prioritize_behaviors([\n",
    "    \n",
    "    LateralDendriticInput(current_coef=60, inhibitory=True),\n",
    "    Conv2dDendriticInput(current_coef = 1, stride = 1, padding = 0),\n",
    "    AveragePool2D(current_coef = 1),\n",
    "    SimpleDendriteStructure(),\n",
    "    SimpleDendriteComputation(),\n",
    "    LIF(\n",
    "        tau = 10,\n",
    "        R = 1,\n",
    "        threshold = -13,\n",
    "        v_rest = -65,\n",
    "        v_reset = -70\n",
    "    ),\n",
    "    InherentNoise(scale = 1, offset = 0),\n",
    "    SpikeNdDataset(\n",
    "        dataloader = \"sensory\",\n",
    "        instance_duration = 1\n",
    "    ),\n",
    "    Fire(),\n",
    "    NeuronAxon(),\n",
    "])"
   ]
  },
  {
   "cell_type": "markdown",
   "metadata": {},
   "source": [
    "# Dataset"
   ]
  },
  {
   "cell_type": "code",
   "execution_count": 4,
   "metadata": {},
   "outputs": [],
   "source": [
    "from torchvision.datasets import MNIST\n",
    "MNIST_ROOT = \"./MNIST\""
   ]
  },
  {
   "cell_type": "markdown",
   "metadata": {},
   "source": [
    "### Config"
   ]
  },
  {
   "cell_type": "code",
   "execution_count": 275,
   "metadata": {},
   "outputs": [],
   "source": [
    "Input_Width = 28\n",
    "Input_Height = 28\n",
    "Crop_Window_Width = 17\n",
    "Crop_Window_Height = 17\n",
    "DoG_SIZE = 5"
   ]
  },
  {
   "cell_type": "code",
   "execution_count": 374,
   "metadata": {},
   "outputs": [
    {
     "name": "stderr",
     "output_type": "stream",
     "text": [
      "100%|██████████| 2/2 [00:00<00:00, 99.98it/s]\n"
     ]
    }
   ],
   "source": [
    "time_window = 50\n",
    "crop_iteration = 1\n",
    "\n",
    "dataset_directory_path = \"./first_step\"\n",
    "\n",
    "transformation = transforms.Compose([\n",
    "    transforms.ToTensor(),\n",
    "    transforms.Grayscale(num_output_channels = 1), # not necessary\n",
    "    Conv2dFilter(DoGFilter(size = 5, sigma_1 = 4, sigma_2 = 1, zero_mean=True, one_sum=True).unsqueeze(0).unsqueeze(0)),\n",
    "    SqueezeTransform(dim = 0),\n",
    "    SimplePoisson(time_window = time_window , ratio = 2),\n",
    "])\n",
    "\n",
    "\n",
    "dataset = MNIST(root=MNIST_ROOT, train=True, download=False, transform=transformation)\n",
    "first_class = dataset.data[dataset.targets == 4][:1]\n",
    "second_class = dataset.data[dataset.targets == 9][:1]\n",
    "two_class_dataset = torch.cat((first_class, second_class), dim=0)\n",
    "new_dataset_size = first_class.shape[0] + second_class.shape[0]\n",
    "\n",
    "t = torch.arange(new_dataset_size)\n",
    "np.random.shuffle(t.numpy())\n",
    "two_class_dataset = two_class_dataset[t]\n",
    "\n",
    "new_dataset = torch.empty(0,Crop_Window_Width - DoG_SIZE + 1, Crop_Window_Height - DoG_SIZE + 1)\n",
    "centers = []\n",
    "\n",
    "\n",
    "for i in tqdm(range(0, new_dataset_size)):\n",
    "    for j in range (0, crop_iteration):\n",
    "        img = two_class_dataset[i]  # 4 in range [0, 5842) ; 9 in range [5842, 11791)\n",
    "        img = Image.fromarray(img.numpy(), mode=\"L\")\n",
    "        a = confidence_crop_interspace(Input_Width, Input_Height, Crop_Window_Width, Crop_Window_Height)\n",
    "        centers.append((a[0][0], a[0][1]))\n",
    "        cropped_image = torchvision.transforms.functional.crop(img, a[1][1], a[1][0], Crop_Window_Width, Crop_Window_Height)\n",
    "        # cropped_image = Image.fromarray(cropped_image.numpy(), mode=\"L\")\n",
    "        # cropped_image = img\n",
    "        cropped_image = transformation(cropped_image)\n",
    "        cropped_image = cropped_image.view(time_window, Crop_Window_Width - DoG_SIZE + 1, Crop_Window_Height - DoG_SIZE + 1)\n",
    "        new_dataset = torch.cat((new_dataset.data, cropped_image.data), dim=0)\n",
    "\n",
    "dl = DataLoader(new_dataset,shuffle=False)\n"
   ]
  },
  {
   "cell_type": "code",
   "execution_count": 375,
   "metadata": {},
   "outputs": [
    {
     "data": {
      "image/png": "[encoded data removed]",
      "text/plain": [
       "<Figure size 640x480 with 1 Axes>"
      ]
     },
     "metadata": {},
     "output_type": "display_data"
    }
   ],
   "source": [
    "new_dataset.shape\n",
    "show_image(torch.sum(new_dataset[200:250], 0))"
   ]
  },
  {
   "cell_type": "code",
   "execution_count": 376,
   "metadata": {},
   "outputs": [
    {
     "data": {
      "image/png": "[encoded data removed]",
      "text/plain": [
       "<Figure size 640x480 with 1 Axes>"
      ]
     },
     "metadata": {},
     "output_type": "display_data"
    }
   ],
   "source": [
    "img = torch.sum(new_dataset[:100], 0) # 4 in range [0, 5842) ; 9 in range [5842, 11791)\n",
    "# img = Image.fromarray(img.numpy(), mode=\"L\")\n",
    "\n",
    "# plt.imshow(img)\n",
    "show_image(img)"
   ]
  },
  {
   "cell_type": "code",
   "execution_count": 377,
   "metadata": {},
   "outputs": [
    {
     "data": {
      "text/plain": [
       "torch.Size([13, 13])"
      ]
     },
     "execution_count": 377,
     "metadata": {},
     "output_type": "execute_result"
    }
   ],
   "source": [
    "new_dataset[0].shape"
   ]
  },
  {
   "cell_type": "markdown",
   "metadata": {},
   "source": [
    "# Building network"
   ]
  },
  {
   "cell_type": "markdown",
   "metadata": {},
   "source": [
    "### Config"
   ]
  },
  {
   "cell_type": "code",
   "execution_count": 378,
   "metadata": {},
   "outputs": [],
   "source": [
    "IMAGE_WIDTH = 28\n",
    "IMAGE_HEIGHT = 28\n",
    "\n",
    "OUT_CHANNEL = 10\n",
    "IN_CHANNEL = 1\n",
    "KERNEL_WIDTH = 11\n",
    "KERNEL_HEIGHT = 11\n",
    "\n",
    "# INPUT_WIDTH = IMAGE_WIDTH - DoG_SIZE + 1\n",
    "# INPUT_HEIGHT = IMAGE_HEIGHT - DoG_SIZE + 1\n",
    "INPUT_WIDTH = Crop_Window_Width - DoG_SIZE + 1\n",
    "INPUT_HEIGHT = Crop_Window_Height - DoG_SIZE + 1\n",
    "\n",
    "L4_WIDTH = INPUT_WIDTH - KERNEL_WIDTH + 1\n",
    "L4_HEIGHT = INPUT_HEIGHT - KERNEL_HEIGHT + 1\n",
    "\n",
    "L23_WIDTH = L4_WIDTH//2\n",
    "L23_HEIGHT = L4_HEIGHT//2\n",
    "\n",
    "J_0 = 300\n",
    "p = 0.8"
   ]
  },
  {
   "cell_type": "code",
   "execution_count": 379,
   "metadata": {},
   "outputs": [
    {
     "name": "stdout",
     "output_type": "stream",
     "text": [
      "13\n"
     ]
    }
   ],
   "source": [
    "print(INPUT_HEIGHT)"
   ]
  },
  {
   "cell_type": "code",
   "execution_count": 410,
   "metadata": {},
   "outputs": [],
   "source": [
    "net = Neocortex(dt=1, dtype=torch.float32)\n",
    "\n",
    "\n",
    "\n",
    "#################### Input Layer ####################\n",
    "\n",
    "\n",
    "\n",
    "\n",
    "input_layer = InputLayer(\n",
    "    net=net,\n",
    "    input_dataloader = dl,\n",
    "    sensory_data_dim=2,\n",
    "    sensory_size = NeuronDimension(depth=1, height = INPUT_HEIGHT, width = INPUT_WIDTH),\n",
    "    sensory_trace = 3,\n",
    "    instance_duration = time_window,\n",
    "    have_label = False,\n",
    "    silent_interval = 50,\n",
    "    output_ports = {\n",
    "        \"data_out\": (None,[(\"sensory_pop\", {})])\n",
    "    }\n",
    ")\n",
    "\n",
    "\n",
    "\n",
    "\n",
    "#################### L4 ####################\n",
    "\n",
    "\n",
    "\n",
    "ng4e = NeuronGroup(size = NeuronDimension(depth = OUT_CHANNEL , height = L4_HEIGHT, width = L4_WIDTH), net = net, behavior = prioritize_behaviors([\n",
    "    SimpleDendriteStructure(),\n",
    "    SimpleDendriteComputation(),\n",
    "    LIF(\n",
    "        init_v = -65,\n",
    "        tau = 7,\n",
    "        R = 10,\n",
    "        threshold = -13,\n",
    "        v_rest = -65,\n",
    "        v_reset = -70,\n",
    "    ),\n",
    "    KWTA(k=10),\n",
    "    ActivityBaseHomeostasis(window_size=10, activity_rate=200, updating_rate=0.0001),\n",
    "    Fire(),\n",
    "    SpikeTrace(tau_s = 15),\n",
    "    NeuronAxon(),\n",
    "]))\n",
    "\n",
    "ng4i = NeuronGroup(size = L4_HEIGHT * L4_WIDTH * OUT_CHANNEL // 4, net = net, tag = \"inh\", behavior = prioritize_behaviors([\n",
    "    SimpleDendriteStructure(),\n",
    "    SimpleDendriteComputation(),\n",
    "    LIF(\n",
    "        init_v = -65,\n",
    "        tau = 7,\n",
    "        R = 10,\n",
    "        threshold = -13,\n",
    "        v_rest = -65,\n",
    "        v_reset = -70\n",
    "    ),\n",
    "    # KWTA(k=30),\n",
    "    Fire(),\n",
    "    SpikeTrace(tau_s = 5, offset = 0),\n",
    "    NeuronAxon(),\n",
    "]))\n",
    "\n",
    "\n",
    "sg4e4i = SynapseGroup(net = net, src = ng4e, dst = ng4i, tag = \"Proximal\", behavior = prioritize_behaviors([\n",
    "    SimpleDendriticInput(),\n",
    "    SynapseInit(),\n",
    "    WeightInitializer(mode = \"ones\", scale = J_0/math.sqrt(1600 * p), density = 0.02, true_sparsity = False),\n",
    "]))\n",
    "\n",
    "\n",
    "sg4i4e = SynapseGroup(net = net, src = ng4i, dst = ng4e, tag = \"Proximal\", behavior = prioritize_behaviors([\n",
    "    SimpleDendriticInput(),\n",
    "    SynapseInit(),\n",
    "    WeightInitializer(mode = \"ones\", scale = J_0/math.sqrt(1600 * p), density = 0.02, true_sparsity = False),\n",
    "]))\n",
    "\n",
    "sg4e4e = SynapseGroup(net = net, src = ng4e, dst = ng4e, tag = \"Proximal\", behavior=prioritize_behaviors([\n",
    "    SynapseInit(),\n",
    "    WeightInitializer(weights=torch.Tensor([1, 1, 1, 1, 1, 1, 1, 1, 1, 0, 1, 1, 1, 1, 1, 1, 1, 1, 1]).view(1, 1, 19, 1, 1)),\n",
    "    LateralDendriticInput(current_coef=50000, inhibitory = True),\n",
    "]))\n",
    "\n",
    "\n",
    "inh_lateral_weight = torch.ones((1, 1, 1, 17, 17))\n",
    "inh_lateral_weight[0][0][0][8][8] = 0\n",
    "sg4e4e_ah = SynapseGroup(net = net, src = ng4e, dst = ng4e, tag = \"Proximal\", behavior=prioritize_behaviors([\n",
    "    SynapseInit(),\n",
    "    WeightInitializer(weights=inh_lateral_weight),\n",
    "    LateralDendriticInput(current_coef=5000000, inhibitory = True),\n",
    "]))\n",
    "\n",
    "sg4i4i = SynapseGroup(net = net, src = ng4i, dst = ng4i, tag = \"Proximal\", behavior = prioritize_behaviors([\n",
    "    SimpleDendriticInput(),\n",
    "    SynapseInit(),\n",
    "    WeightInitializer(mode = \"ones\", scale = J_0/math.sqrt(1600 * p), density = 0.02, true_sparsity = False),\n",
    "]))\n",
    "\n",
    "\n",
    "\n",
    "#################### L2&3 ####################\n",
    "\n",
    "\n",
    "\n",
    "ng23e = NeuronGroup(size = NeuronDimension(depth = OUT_CHANNEL , height = L23_HEIGHT, width = L23_WIDTH), net = net, behavior = prioritize_behaviors([\n",
    "    SimpleDendriteStructure(),\n",
    "    SimpleDendriteComputation(),\n",
    "    LIF(\n",
    "        init_v = -65,\n",
    "        tau = 7,\n",
    "        R = 10,\n",
    "        threshold = -13,\n",
    "        v_rest = -65,\n",
    "        v_reset = -70\n",
    "    ),\n",
    "    Fire(),\n",
    "    SpikeTrace(tau_s = 15),\n",
    "    NeuronAxon(),\n",
    "]))\n",
    "\n",
    "ng23i = NeuronGroup(size = L23_HEIGHT * L23_WIDTH * OUT_CHANNEL // 4, net = net, tag = \"inh\", behavior = prioritize_behaviors([\n",
    "    SimpleDendriteStructure(),\n",
    "    SimpleDendriteComputation(),\n",
    "    LIF(\n",
    "        init_v = -65,\n",
    "        tau = 7,\n",
    "        R = 10,\n",
    "        threshold = -13,\n",
    "        v_rest = -65,\n",
    "        v_reset = -70\n",
    "    ),\n",
    "    Fire(),\n",
    "    SpikeTrace(tau_s = 15),\n",
    "    NeuronAxon(),\n",
    "]))\n",
    "\n",
    "sg23e23i = SynapseGroup(net = net, src = ng23e, dst = ng23i, tag = \"Proximal\", behavior = prioritize_behaviors([\n",
    "    SimpleDendriticInput(),\n",
    "    SynapseInit(),\n",
    "    WeightInitializer(mode = \"ones\", scale = J_0/math.sqrt(2500 * p), density = 0.02, true_sparsity = False),\n",
    "]))\n",
    "\n",
    "sg23i23e = SynapseGroup(net = net, src = ng23i, dst = ng23e, tag = \"Proximal\", behavior = prioritize_behaviors([\n",
    "    SimpleDendriticInput(),\n",
    "    SynapseInit(),\n",
    "    WeightInitializer(mode = \"ones\", scale = J_0/math.sqrt(2500 * p), density = 0.02, true_sparsity = False),\n",
    "]))\n",
    "\n",
    "sg23i23i = SynapseGroup(net = net, src = ng23i, dst = ng23i, tag = \"Proximal\", behavior = prioritize_behaviors([\n",
    "    SimpleDendriticInput(),\n",
    "    SynapseInit(),\n",
    "    WeightInitializer(mode = \"ones\", scale = J_0/math.sqrt(2500 * p), density = 0.02, true_sparsity = False),\n",
    "]))\n",
    "\n",
    "\n",
    "\n",
    "################### Layers ###################\n",
    "\n",
    "\n",
    "\n",
    "L4 = CorticalLayer(\n",
    "    net=net,\n",
    "    excitatory_neurongroup=ng4e,\n",
    "    inhibitory_neurongroup=ng4i,\n",
    "    synapsegroups=[sg4e4i, sg4i4e, sg4e4e, sg4i4i, sg4e4e_ah],\n",
    "    input_ports={\n",
    "        \"input\": (\n",
    "            None,\n",
    "            [Port(object = ng4e, label = None)],\n",
    "        ),\n",
    "        \"output\": (\n",
    "            None,\n",
    "            [Port(object = ng4e, label = None)]\n",
    "        )\n",
    "    },\n",
    ")\n",
    "\n",
    "\n",
    "\n",
    "L23 = CorticalLayer(\n",
    "    net=net,\n",
    "    excitatory_neurongroup=ng23e,\n",
    "    inhibitory_neurongroup=ng23i,\n",
    "    synapsegroups=[sg23e23i, sg23i23e, sg23i23i],\n",
    "    input_ports={\n",
    "        \"input\": (\n",
    "            None,\n",
    "            [Port(object = ng23e, label = None)],\n",
    "        ),\n",
    "        \"output\": (\n",
    "            None,\n",
    "            [Port(object = ng23e, label = None)]\n",
    "        )\n",
    "    },\n",
    ")\n",
    "\n",
    "\n",
    "\n",
    "########### Inter Layer Connections ##########\n",
    "\n",
    "\n",
    "\n",
    "Synapsis_L4_L23 = Synapsis(\n",
    "    net = net,\n",
    "    src = L4,\n",
    "    dst = L23,\n",
    "    input_port=\"output\",\n",
    "    output_port=\"input\",\n",
    "    synapsis_behavior=prioritize_behaviors([\n",
    "        SynapseInit(),\n",
    "        AveragePool2D(current_coef = 50000),\n",
    "    ]),\n",
    "    synaptic_tag=\"Proximal\"\n",
    ")\n",
    "\n",
    "\n",
    "Synapsis_Inp_L4 = Synapsis(\n",
    "    net = net,\n",
    "    src = input_layer,\n",
    "    dst = L4,\n",
    "    input_port=\"data_out\",\n",
    "    output_port=\"input\",\n",
    "    synapsis_behavior=prioritize_behaviors([\n",
    "        SynapseInit(),\n",
    "        WeightInitializer(weights = torch.normal(0.1, 2, (OUT_CHANNEL, IN_CHANNEL, KERNEL_HEIGHT, KERNEL_WIDTH)) ),\n",
    "        Conv2dDendriticInput(current_coef = 10000 , stride = 1, padding = 0),\n",
    "        Conv2dSTDP(a_plus=0.3, a_minus=0.0008),\n",
    "        WeightNormalization(norm = 10)\n",
    "    ]),\n",
    "    synaptic_tag=\"Proximal\"\n",
    ")"
   ]
  },
  {
   "cell_type": "code",
   "execution_count": 411,
   "metadata": {},
   "outputs": [
    {
     "name": "stdout",
     "output_type": "stream",
     "text": [
      "Network['Neocortex'](Neurons: tensor(293)|5 groups, Synapses: tensor(35898)|9 groups){1:TimeResolution(dt=1,)}\n",
      "NeuronGroup['Sensory', 'NeuronGroup', 'ng'](169){0:NeuronDimension(depth=1,height=13,width=13,input_patterns=None,)340:SensorySetter()360:SpikeTrace(tau_s=3,)380:NeuronAxon(max_delay=1,proximal_min_delay=0,distal_min_delay=0,apical_min_delay=0,have_trace=None,)}\n",
      "NeuronGroup['NeuronGroup_2', 'NeuronGroup', 'ng'](90){0:NeuronDimension(depth=10,height=3,width=3,input_patterns=None,)220:SimpleDendriteStructure(Proximal_max_delay=1,Distal_max_delay=1,Apical_max_delay=None,proximal_min_delay=0,distal_min_delay=0,apical_min_delay=None,)240:SimpleDendriteComputation(I_tau=None,apical_provocativeness=None,distal_provocativeness=None,)260:LIF(R=10,tau=7,threshold=-13,v_reset=-70,v_rest=-65,init_v=-65,init_s=None,)300:KWTA(k=10,dimension=None,)340:Fire()341:ActivityBaseHomeostasis(activity_rate=200,window_size=10,updating_rate=0.0001,decay_rate=1.0,)360:SpikeTrace(tau_s=15,)380:NeuronAxon(max_delay=1,proximal_min_delay=0,distal_min_delay=0,apical_min_delay=0,have_trace=None,)}\n",
      "NeuronGroup['inh', 'NeuronGroup', 'ng'](22){220:SimpleDendriteStructure(Proximal_max_delay=1,Distal_max_delay=1,Apical_max_delay=None,proximal_min_delay=0,distal_min_delay=0,apical_min_delay=None,)240:SimpleDendriteComputation(I_tau=None,apical_provocativeness=None,distal_provocativeness=None,)260:LIF(R=10,tau=7,threshold=-13,v_reset=-70,v_rest=-65,init_v=-65,init_s=None,)340:Fire()360:SpikeTrace(tau_s=5,offset=0,)380:NeuronAxon(max_delay=1,proximal_min_delay=0,distal_min_delay=0,apical_min_delay=0,have_trace=None,)}\n",
      "NeuronGroup['NeuronGroup_4', 'NeuronGroup', 'ng'](10){0:NeuronDimension(depth=10,height=1,width=1,input_patterns=None,)220:SimpleDendriteStructure(Proximal_max_delay=1,Distal_max_delay=1,Apical_max_delay=None,proximal_min_delay=0,distal_min_delay=0,apical_min_delay=None,)240:SimpleDendriteComputation(I_tau=None,apical_provocativeness=None,distal_provocativeness=None,)260:LIF(R=10,tau=7,threshold=-13,v_reset=-70,v_rest=-65,init_v=-65,init_s=None,)340:Fire()360:SpikeTrace(tau_s=15,)380:NeuronAxon(max_delay=1,proximal_min_delay=0,distal_min_delay=0,apical_min_delay=0,have_trace=None,)}\n",
      "NeuronGroup['inh', 'NeuronGroup', 'ng'](2){220:SimpleDendriteStructure(Proximal_max_delay=1,Distal_max_delay=1,Apical_max_delay=None,proximal_min_delay=0,distal_min_delay=0,apical_min_delay=None,)240:SimpleDendriteComputation(I_tau=None,apical_provocativeness=None,distal_provocativeness=None,)260:LIF(R=10,tau=7,threshold=-13,v_reset=-70,v_rest=-65,init_v=-65,init_s=None,)340:Fire()360:SpikeTrace(tau_s=15,)380:NeuronAxon(max_delay=1,proximal_min_delay=0,distal_min_delay=0,apical_min_delay=0,have_trace=None,)}\n",
      "SynapseGroup['Proximal', 'SynapseGroup', 'syn', 'NeuronGroup_2 => inh'](S90xD22){2:SynapseInit(),3:WeightInitializer(mode=ones,scale=8.38525491562421,offset=0,function=None,density=0.02,true_sparsity=False,weight_shape=None,kernel_shape=None,weights=None,),180:SimpleDendriticInput(current_coef=1,),}\n",
      "SynapseGroup['Proximal', 'SynapseGroup', 'syn', 'inh => NeuronGroup_2'](S22xD90){2:SynapseInit(),3:WeightInitializer(mode=ones,scale=8.38525491562421,offset=0,function=None,density=0.02,true_sparsity=False,weight_shape=None,kernel_shape=None,weights=None,),180:SimpleDendriticInput(current_coef=1,),}\n",
      "SynapseGroup['Proximal', 'SynapseGroup', 'syn', 'NeuronGroup_2 => NeuronGroup_2'](S90xD90){2:SynapseInit(),3:WeightInitializer(mode=None,scale=1,offset=0,function=None,density=1,true_sparsity=True,weight_shape=None,kernel_shape=None,weights=tensor([[[[[1.]],\n",
      "\n",
      "          [[1.]],\n",
      "\n",
      "          [[1.]],\n",
      "\n",
      "          [[1.]],\n",
      "\n",
      "          [[1.]],\n",
      "\n",
      "          [[1.]],\n",
      "\n",
      "          [[1.]],\n",
      "\n",
      "          [[1.]],\n",
      "\n",
      "          [[1.]],\n",
      "\n",
      "          [[0.]],\n",
      "\n",
      "          [[1.]],\n",
      "\n",
      "          [[1.]],\n",
      "\n",
      "          [[1.]],\n",
      "\n",
      "          [[1.]],\n",
      "\n",
      "          [[1.]],\n",
      "\n",
      "          [[1.]],\n",
      "\n",
      "          [[1.]],\n",
      "\n",
      "          [[1.]],\n",
      "\n",
      "          [[1.]]]]]),),180:LateralDendriticInput(current_coef=50000,inhibitory=True,),}\n",
      "SynapseGroup['Proximal', 'SynapseGroup', 'syn', 'inh => inh'](S22xD22){2:SynapseInit(),3:WeightInitializer(mode=ones,scale=8.38525491562421,offset=0,function=None,density=0.02,true_sparsity=False,weight_shape=None,kernel_shape=None,weights=None,),180:SimpleDendriticInput(current_coef=1,),}\n",
      "SynapseGroup['Proximal', 'SynapseGroup', 'syn', 'NeuronGroup_4 => inh'](S10xD2){2:SynapseInit(),3:WeightInitializer(mode=ones,scale=6.7082039324993685,offset=0,function=None,density=0.02,true_sparsity=False,weight_shape=None,kernel_shape=None,weights=None,),180:SimpleDendriticInput(current_coef=1,),}\n",
      "SynapseGroup['Proximal', 'SynapseGroup', 'syn', 'inh => NeuronGroup_4'](S2xD10){2:SynapseInit(),3:WeightInitializer(mode=ones,scale=6.7082039324993685,offset=0,function=None,density=0.02,true_sparsity=False,weight_shape=None,kernel_shape=None,weights=None,),180:SimpleDendriticInput(current_coef=1,),}\n",
      "SynapseGroup['Proximal', 'SynapseGroup', 'syn', 'Sensory => NeuronGroup_2'](S169xD90){2:SynapseInit(),3:WeightInitializer(mode=None,scale=1,offset=0,function=None,density=1,true_sparsity=True,weight_shape=None,kernel_shape=None,weights=tensor([[[[-0.2898,  1.4789,  3.9526,  ..., -1.3489, -0.8409,  1.6749],\n",
      "          [ 2.2364, -1.8753,  0.6684,  ..., -2.6324,  0.7772,  0.2880],\n",
      "          [ 2.8862,  1.1727,  1.3406,  ..., -1.6832, -0.5289, -3.4852],\n",
      "          ...,\n",
      "          [ 2.6990, -1.2392,  1.9194,  ..., -2.6091,  0.5672, -0.8227],\n",
      "          [ 2.4225, -4.7547, -3.1452,  ..., -0.4140, -0.9326,  0.4469],\n",
      "          [-0.7193,  2.0587, -2.9906,  ...,  0.2427,  0.8143,  2.0455]]],\n",
      "\n",
      "\n",
      "        [[[ 1.5129,  0.0864, -1.5986,  ...,  3.9065,  1.2777, -0.4072],\n",
      "          [-2.2194,  1.4738, -2.3884,  ..., -3.0337,  1.1806,  4.2293],\n",
      "          [ 1.0487,  2.3304,  1.4759,  ..., -0.4592,  1.0251,  1.3947],\n",
      "          ...,\n",
      "          [ 1.6246,  3.2610,  0.8382,  ...,  2.5487,  3.0098, -4.5226],\n",
      "          [-4.9380,  3.9130,  1.9659,  ..., -3.1423, -0.6435,  1.4221],\n",
      "          [ 0.9744,  0.0089,  0.6508,  ..., -5.9862, -3.5856,  0.9251]]],\n",
      "\n",
      "\n",
      "        [[[ 2.4120,  1.1248,  0.0676,  ..., -1.1114,  0.5515, -4.3111],\n",
      "          [ 1.9605,  1.4435, -1.6456,  ...,  1.0169,  2.0381,  1.2004],\n",
      "          [-1.0918, -0.7365, -1.1453,  ...,  1.0380, -3.3122,  0.4303],\n",
      "          ...,\n",
      "          [-0.2777,  0.9126,  1.8581,  ...,  0.1036,  1.5608, -1.4301],\n",
      "          [ 2.0041,  0.9302, -1.3063,  ..., -0.8253,  4.1515,  1.0239],\n",
      "          [ 0.8943,  0.2811,  0.2369,  ...,  1.1099, -2.3757,  0.3002]]],\n",
      "\n",
      "\n",
      "        ...,\n",
      "\n",
      "\n",
      "        [[[ 2.5812, -0.0279,  0.6768,  ...,  0.8003, -2.3998,  1.0895],\n",
      "          [ 0.2124,  1.4090, -1.6930,  ..., -0.2464,  0.7204, -1.4520],\n",
      "          [ 1.0020, -0.6817, -1.4516,  ...,  0.2467,  0.9859, -0.0432],\n",
      "          ...,\n",
      "          [-3.9122,  2.4275, -1.8287,  ...,  3.5543, -0.3898, -0.3182],\n",
      "          [ 0.4994, -2.2856, -0.7688,  ..., -0.1488,  3.6633,  0.9596],\n",
      "          [-0.1644,  1.5908, -4.5611,  ...,  0.6125,  0.4324,  0.0779]]],\n",
      "\n",
      "\n",
      "        [[[-2.7665,  1.3696, -1.2534,  ...,  2.4801,  0.3430,  1.3077],\n",
      "          [-0.7807,  2.8979, -2.8167,  ..., -0.7655, -3.8145,  1.8895],\n",
      "          [ 0.9705, -2.3958,  1.2911,  ...,  0.8505,  2.4353,  0.5274],\n",
      "          ...,\n",
      "          [-1.3522, -0.8734,  0.5058,  ...,  2.5249,  4.1705,  0.4968],\n",
      "          [-1.2460,  3.3831,  0.6593,  ..., -0.0938, -1.5653, -1.0498],\n",
      "          [-3.1245,  1.0837, -0.1929,  ...,  0.9587,  0.3996,  0.7382]]],\n",
      "\n",
      "\n",
      "        [[[ 2.8815,  0.2306, -0.7251,  ..., -2.0865, -0.3209, -1.7269],\n",
      "          [ 2.5268, -1.9386,  1.0900,  ..., -4.2590,  1.3250,  1.0929],\n",
      "          [ 0.1650, -2.7249, -2.7967,  ...,  1.0408, -0.4219,  3.7272],\n",
      "          ...,\n",
      "          [-2.1731, -1.9089,  0.9667,  ..., -0.6588, -3.4645,  1.4594],\n",
      "          [-1.8102, -4.1437,  0.2792,  ..., -2.8691, -2.2912, -1.0263],\n",
      "          [-3.9716,  0.0854,  2.5048,  ...,  4.7800,  0.4772,  0.8829]]]]),),180:Conv2dDendriticInput(current_coef=10000,stride=1,padding=0,),400:Conv2dSTDP(a_plus=0.3,a_minus=0.0008,w_min=0.0,w_max=1.0,positive_bound=None,negative_bound=None,),420:WeightNormalization(norm=10,),}\n",
      "InputLayer(Sensory Population Sensory(169)320:SpikeNdDataset(dataloader=<torch.utils.data.dataloader.DataLoader object at 0x0000020E52431D00>,ndim_sensory=2,ndim_location=2,have_location=False,have_sensory=True,have_label=False,silent_interval=50,instance_duration=50,loop=True,)}\n",
      "CorticalLayer['CorticalLayer_15', 'CorticalLayer'](SubStructures(7):NeuronGroups['NeuronGroup_2', 'inh']SynapseGroups['Proximal', 'Proximal', 'Proximal', 'Proximal', 'Proximal']){}\n",
      "CorticalLayer['CorticalLayer_16', 'CorticalLayer'](SubStructures(5):NeuronGroups['NeuronGroup_4', 'inh']SynapseGroups['Proximal', 'Proximal', 'Proximal']){}\n",
      "Synapsis['Synapsis_17', 'Synapsis'](Synapses:[]){}\n",
      "Synapsis['Synapsis_18', 'Synapsis'](Synapses:['Proximal']){}\n",
      "Warning: \"offset\" not used in initialize of SpikeTrace(tau_s=5,offset=0,) behavior! Make sure that \"offset\" is spelled correctly and parameter(offset,...) is called in initialize. Valid attributes are: \"behavior_enabled\", \"tag\", \"device\", \"tau_s\".\n",
      "Warning: NeuronGroup Tag \"inh\" already in use. The first Tag of an Object should be unique and will be renamed to \"inhb\". Multiple Tags can be separated with a \",\" (NeuronGroup(..., tag=\"tag1,tag2,...\"))\n",
      "10000xBatch: 1/1 (100%) 60511.479ms\n"
     ]
    },
    {
     "data": {
      "text/plain": [
       "60511.478900909424"
      ]
     },
     "execution_count": 411,
     "metadata": {},
     "output_type": "execute_result"
    }
   ],
   "source": [
    "net.initialize()\n",
    "net.simulate_iterations(10000)"
   ]
  },
  {
   "cell_type": "code",
   "execution_count": 412,
   "metadata": {},
   "outputs": [
    {
     "data": {
      "image/png": "[encoded data removed]",
      "text/plain": [
       "<Figure size 5000x500 with 10 Axes>"
      ]
     },
     "metadata": {},
     "output_type": "display_data"
    }
   ],
   "source": [
    "show_filters(Synapsis_Inp_L4.synapses[0].weights)"
   ]
  },
  {
   "cell_type": "code",
   "execution_count": 407,
   "metadata": {},
   "outputs": [
    {
     "name": "stdout",
     "output_type": "stream",
     "text": [
      "Ahffh\n"
     ]
    }
   ],
   "source": [
    "print(\"Ahffh\")"
   ]
  },
  {
   "cell_type": "code",
   "execution_count": null,
   "metadata": {},
   "outputs": [],
   "source": []
  }
 ],
 "metadata": {
  "kernelspec": {
   "display_name": "Python 3",
   "language": "python",
   "name": "python3"
  },
  "language_info": {
   "codemirror_mode": {
    "name": "ipython",
    "version": 3
   },
   "file_extension": ".py",
   "mimetype": "text/x-python",
   "name": "python",
   "nbconvert_exporter": "python",
   "pygments_lexer": "ipython3",
   "version": "3.12.3"
  }
 },
 "nbformat": 4,
 "nbformat_minor": 2
}
