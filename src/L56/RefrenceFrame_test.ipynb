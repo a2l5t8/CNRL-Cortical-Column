{
 "cells": [
  {
   "cell_type": "markdown",
   "metadata": {},
   "source": [
    "# Settings"
   ]
  },
  {
   "cell_type": "markdown",
   "metadata": {},
   "source": [
    "### Autoreload of ipynb"
   ]
  },
  {
   "cell_type": "code",
   "execution_count": 1,
   "metadata": {},
   "outputs": [],
   "source": [
    "%reload_ext autoreload\n",
    "%autoreload 2"
   ]
  },
  {
   "cell_type": "markdown",
   "metadata": {},
   "source": [
    "### Changing the path to the main directories path"
   ]
  },
  {
   "cell_type": "code",
   "execution_count": 2,
   "metadata": {},
   "outputs": [
    {
     "data": {
      "text/plain": [
       "'C:\\\\Users\\\\amilion\\\\Documents\\\\GitHub\\\\CNRL-Cortical-Column\\\\src'"
      ]
     },
     "execution_count": 2,
     "metadata": {},
     "output_type": "execute_result"
    }
   ],
   "source": [
    "import os\n",
    "os.chdir(r\"C:\\Users\\amilion\\Documents\\GitHub\\CNRL-Cortical-Column\\src\")\n",
    "os.getcwd()"
   ]
  },
  {
   "cell_type": "markdown",
   "metadata": {},
   "source": [
    "# Imports"
   ]
  },
  {
   "cell_type": "code",
   "execution_count": 3,
   "metadata": {},
   "outputs": [],
   "source": [
    "from conex import *\n",
    "from pymonntorch import *\n",
    "\n",
    "from matplotlib import pyplot as plt\n",
    "\n",
    "from L56.RefrenceFrames import RefrenceFrame\n",
    "from L56.stimuli.current_base import RandomInputCurrent\n",
    "from InputLayer.DataLoaderLayer import DataLoaderLayer\n",
    "from InputLayer.synapse.LocationCoder import LocationCoder\n",
    "from L423.network.SetTarget import SetTarget\n",
    "\n",
    "from L56.tools.visualization import refrence_frame_raster"
   ]
  },
  {
   "cell_type": "markdown",
   "metadata": {},
   "source": [
    "# Configs"
   ]
  },
  {
   "cell_type": "code",
   "execution_count": 4,
   "metadata": {},
   "outputs": [],
   "source": [
    "HIGHER_LAYER_DIM = 16 \n",
    "REFRENCE_FRAME_DIM = 23\n",
    "REFRENCE_INH_DIM = 15\n",
    "ITERATIONS = 100\n",
    "SCREEN_SHOT_PATH = \"C:\\\\Users\\\\amilion\\\\Desktop\\\\develop\\\\python\\\\NS\\\\records\\\\L5.6\""
   ]
  },
  {
   "cell_type": "markdown",
   "metadata": {},
   "source": [
    "# Defining emty DataLoader"
   ]
  },
  {
   "cell_type": "code",
   "execution_count": 5,
   "metadata": {},
   "outputs": [
    {
     "data": {
      "text/plain": [
       "tensor([[[0., 0., 0., 0., 0., 0., 0., 0., 0., 0., 0., 0., 0., 0., 0.],\n",
       "         [0., 0., 0., 0., 0., 0., 0., 0., 0., 0., 0., 0., 0., 0., 0.],\n",
       "         [0., 0., 0., 0., 0., 0., 0., 0., 0., 0., 0., 0., 0., 0., 0.],\n",
       "         [0., 0., 0., 0., 0., 0., 0., 0., 0., 0., 0., 0., 0., 0., 0.],\n",
       "         [0., 0., 0., 0., 0., 0., 0., 0., 0., 0., 0., 0., 0., 0., 0.],\n",
       "         [0., 0., 0., 0., 0., 0., 0., 0., 0., 0., 0., 0., 0., 0., 0.],\n",
       "         [0., 0., 0., 0., 0., 0., 0., 0., 0., 0., 0., 0., 0., 0., 0.],\n",
       "         [0., 0., 0., 0., 0., 0., 0., 0., 0., 0., 0., 0., 0., 0., 0.],\n",
       "         [0., 0., 0., 0., 0., 0., 0., 0., 0., 0., 0., 0., 0., 0., 0.],\n",
       "         [0., 0., 0., 0., 0., 0., 0., 0., 0., 0., 0., 0., 0., 0., 0.],\n",
       "         [0., 0., 0., 0., 0., 0., 0., 0., 0., 0., 0., 0., 0., 0., 0.],\n",
       "         [0., 0., 0., 0., 0., 0., 0., 0., 0., 0., 0., 0., 0., 0., 0.],\n",
       "         [0., 0., 0., 0., 0., 0., 0., 0., 0., 0., 0., 0., 0., 0., 0.],\n",
       "         [0., 0., 0., 0., 0., 0., 0., 0., 0., 0., 0., 0., 0., 0., 0.],\n",
       "         [0., 0., 0., 0., 0., 0., 0., 0., 0., 0., 0., 0., 0., 0., 0.]]])"
      ]
     },
     "execution_count": 5,
     "metadata": {},
     "output_type": "execute_result"
    }
   ],
   "source": [
    "class EmptyDataLoader():\n",
    "    def __init__(self):\n",
    "        self.dataset = torch.zeros(1, 15, 15)\n",
    "        super().__init__()\n",
    "\n",
    "dl = EmptyDataLoader()\n",
    "dl.dataset"
   ]
  },
  {
   "cell_type": "markdown",
   "metadata": {},
   "source": [
    "# Defining targets"
   ]
  },
  {
   "cell_type": "code",
   "execution_count": 6,
   "metadata": {},
   "outputs": [],
   "source": [
    "target = torch.Tensor([1])"
   ]
  },
  {
   "cell_type": "markdown",
   "metadata": {},
   "source": [
    "# Initializing the Network"
   ]
  },
  {
   "cell_type": "code",
   "execution_count": 7,
   "metadata": {},
   "outputs": [],
   "source": [
    "net = Neocortex(index=True, dt=1, dtype=torch.float32, behavior = prioritize_behaviors(\n",
    "    [\n",
    "        Payoff(initial_payoff = 1),\n",
    "        Dopamine(tau_dopamine = 5),\n",
    "    ]\n",
    "    ) | {5 : SetTarget(target = target), 601 : Recorder([\"dopamine\"])})"
   ]
  },
  {
   "cell_type": "markdown",
   "metadata": {},
   "source": [
    "# Neuron Groups"
   ]
  },
  {
   "cell_type": "markdown",
   "metadata": {},
   "source": [
    "### Defining L23"
   ]
  },
  {
   "cell_type": "code",
   "execution_count": 8,
   "metadata": {},
   "outputs": [],
   "source": [
    "higher_layer = NeuronGroup(\n",
    "    net=net,\n",
    "    size=NeuronDimension(depth=1, height=HIGHER_LAYER_DIM, width=HIGHER_LAYER_DIM),\n",
    "    behavior=prioritize_behaviors(\n",
    "        [\n",
    "            SimpleDendriteStructure(),\n",
    "            SimpleDendriteComputation(),\n",
    "            SpikeTrace(tau_s = 5, offset = 0),\n",
    "            NeuronAxon(),\n",
    "        ]\n",
    "    )\n",
    "    | (\n",
    "        {\n",
    "            250: RandomInputCurrent(k=2, prob_to_spike=0.2, intensity=1, T=ITERATIONS//2),\n",
    "            # 600: Recorder([\"I\", \"v\"]),\n",
    "            603: EventRecorder([\"spikes\"]),\n",
    "        }\n",
    "    ),\n",
    ")\n",
    "\n",
    "L23 = Layer(\n",
    "    net=net, \n",
    "    neurongroups=[higher_layer], \n",
    "    input_ports={\"input\": (None, [Port(object=higher_layer, label=None)])}, \n",
    "    output_ports={\"output\":(None, [Port(object=higher_layer, label=None)])}\n",
    ")"
   ]
  },
  {
   "cell_type": "markdown",
   "metadata": {},
   "source": [
    "### Defining L56"
   ]
  },
  {
   "cell_type": "code",
   "execution_count": 9,
   "metadata": {},
   "outputs": [],
   "source": [
    "L56 = RefrenceFrame(\n",
    "    net=net, \n",
    "    k=2, \n",
    "    refrence_frame_side=REFRENCE_FRAME_DIM, \n",
    "    inhibitory_size=REFRENCE_INH_DIM,\n",
    "    competize=True).build_layer()"
   ]
  },
  {
   "cell_type": "markdown",
   "metadata": {},
   "source": [
    "### Defining InputLayer"
   ]
  },
  {
   "cell_type": "code",
   "execution_count": 10,
   "metadata": {},
   "outputs": [],
   "source": [
    "InputLayer = DataLoaderLayer(\n",
    "    net=net, \n",
    "    data_loader=dl, \n",
    "    widnow_size=1, \n",
    "    saccades_on_each_image=2, \n",
    "    rest_interval=1, \n",
    "    iterations=ITERATIONS).build_data_loader()"
   ]
  },
  {
   "cell_type": "markdown",
   "metadata": {},
   "source": [
    "# Synapses"
   ]
  },
  {
   "cell_type": "markdown",
   "metadata": {},
   "source": [
    "### Without Learning"
   ]
  },
  {
   "cell_type": "code",
   "execution_count": 11,
   "metadata": {},
   "outputs": [],
   "source": [
    "Inp_to_L56 = Synapsis(\n",
    "    net = net,\n",
    "    src = InputLayer,\n",
    "    dst = L56,\n",
    "    input_port = \"data_out\",\n",
    "    output_port = \"input\",\n",
    "    synapsis_behavior=prioritize_behaviors([\n",
    "        SynapseInit(),]) | {\n",
    "        275: LocationCoder()\n",
    "    },\n",
    "    synaptic_tag=\"Proximal\"\n",
    ")"
   ]
  },
  {
   "cell_type": "markdown",
   "metadata": {},
   "source": [
    "### With Learning"
   ]
  },
  {
   "cell_type": "code",
   "execution_count": 12,
   "metadata": {},
   "outputs": [],
   "source": [
    "L23_to_L56 = Synapsis(\n",
    "    net=net,\n",
    "    src=L23,\n",
    "    dst=L56,\n",
    "    input_port=\"output\",\n",
    "    output_port=\"input\",\n",
    "    synaptic_tag=\"Apical, exi\",\n",
    "    synapsis_behavior=prioritize_behaviors(\n",
    "        [\n",
    "            SynapseInit(), \n",
    "            SimpleDendriticInput(),\n",
    "            WeightInitializer(mode=\"normal(2, 0.5)\"),\n",
    "            SimpleSTDP(w_min=0, w_max=10, a_plus=1, a_minus=0.0008)\n",
    "        ]\n",
    "    )\n",
    ")\n",
    "\n",
    "L56_to_L23 = Synapsis(\n",
    "    net=net,\n",
    "    src=L56,\n",
    "    dst=L23,\n",
    "    input_port=\"output\",\n",
    "    output_port=\"input\",\n",
    "    synaptic_tag=\"Apical, exi\",\n",
    "    synapsis_behavior=prioritize_behaviors(\n",
    "        [\n",
    "            SynapseInit(), \n",
    "            SimpleDendriticInput(),\n",
    "            WeightInitializer(mode=\"normal(2, 0.5)\"),\n",
    "            SimpleSTDP(w_min=0, w_max=10, a_plus=1, a_minus=0.0008)\n",
    "        ]\n",
    "    )\n",
    ")"
   ]
  },
  {
   "cell_type": "markdown",
   "metadata": {},
   "source": [
    "# Simulating the network"
   ]
  },
  {
   "cell_type": "code",
   "execution_count": 13,
   "metadata": {},
   "outputs": [
    {
     "name": "stdout",
     "output_type": "stream",
     "text": [
      "Network['Neocortex'](Neurons: tensor(1330)|5 groups, Synapses: tensor(863553)|11 groups){1:TimeResolution(dt=1,)5:SetTarget(target=tensor([1.]),)100:Payoff(initial_payoff=1,)120:Dopamine(tau_dopamine=5,initial_dopamine_concentration=None,)601:Recorder(variables=None,gap_width=0,max_length=None,auto_annotate=True,tag=None,arg_0=['dopamine'],)}\n",
      "NeuronGroup['NeuronGroup_1', 'NeuronGroup', 'ng'](256){0:NeuronDimension(depth=1,height=16,width=16,input_patterns=None,)220:SimpleDendriteStructure(Proximal_max_delay=1,Distal_max_delay=1,Apical_max_delay=None,proximal_min_delay=0,distal_min_delay=0,apical_min_delay=None,)240:SimpleDendriteComputation(I_tau=None,apical_provocativeness=None,distal_provocativeness=None,)250:RandomInputCurrent(k=2,prob_to_spike=0.2,intensity=1,T=50,)360:SpikeTrace(tau_s=5,offset=0,)380:NeuronAxon(max_delay=1,proximal_min_delay=0,distal_min_delay=0,apical_min_delay=0,have_trace=None,)603:EventRecorder(variables=None,gap_width=0,max_length=None,auto_annotate=True,tag=None,arg_0=['spikes'],)}\n",
      "NeuronGroup['RefrenceFrame', '0', 'NeuronGroup', 'ng'](529){0:NeuronDimension(depth=1,height=23,width=23,input_patterns=None,)220:SimpleDendriteStructure(Proximal_max_delay=1,Distal_max_delay=1,Apical_max_delay=None,proximal_min_delay=0,distal_min_delay=0,apical_min_delay=None,)240:SimpleDendriteComputation(I_tau=None,apical_provocativeness=0.9,distal_provocativeness=None,)250:ConstantCurrent(scale=10,)260:GPCell(R=8,tau=5,threshold=-40,v_reset=-67,v_rest=-65,init_v=tensor([-67., -67., -67., -67., -67., -67., -67., -67., -67., -67., -67., -67.,\n",
      "        -67., -67., -67., -67., -67., -67., -67., -67., -67., -67., -67., -67.,\n",
      "        -67., -67., -67., -67., -67., -67., -67., -67., -67., -67., -67., -67.,\n",
      "        -67., -67., -67., -67., -67., -67., -67., -67., -67., -67., -67., -67.,\n",
      "        -67., -67., -67., -67., -67., -67., -67., -67., -67., -67., -67., -67.,\n",
      "        -67., -67., -67., -67., -67., -67., -67., -67., -67., -67., -67., -67.,\n",
      "        -67., -67., -67., -67., -67., -67., -67., -67., -67., -67., -67., -67.,\n",
      "        -67., -67., -67., -67., -67., -67., -67., -67., -67., -67., -67., -67.,\n",
      "        -67., -67., -67., -67., -67., -67., -67., -67., -67., -67., -67., -67.,\n",
      "        -67., -67., -67., -67., -67., -67., -67., -67., -67., -67., -67., -67.,\n",
      "        -67., -67., -67., -67., -67., -67., -67., -67., -67., -67., -67., -67.,\n",
      "        -67., -67., -67., -67., -67., -67., -67., -67., -67., -67., -67., -67.,\n",
      "        -67., -67., -67., -67., -67., -67., -67., -67., -67., -67., -67., -67.,\n",
      "        -67., -67., -67., -67., -67., -67., -67., -67., -67., -67., -67., -67.,\n",
      "        -67., -67., -67., -67., -67., -67., -67., -67., -67., -67., -67., -67.,\n",
      "        -67., -67., -67., -67., -67., -67., -67., -67., -67., -67., -67., -67.,\n",
      "        -67., -67., -67., -67., -67., -67., -67., -67., -67., -67., -67., -67.,\n",
      "        -67., -67., -67., -67., -67., -67., -67., -67., -67., -67., -67., -67.,\n",
      "        -67., -67., -67., -67., -67., -67., -67., -67., -67., -67., -67., -67.,\n",
      "        -67., -67., -67., -67., -67., -67., -67., -67., -67., -67., -67., -67.,\n",
      "        -67., -67., -67., -67., -67., -67., -67., -67., -67., -67., -67., -67.,\n",
      "        -67., -67., -67., -67., -67., -67., -67., -67., -67., -67., -67., -67.,\n",
      "        -67., -67., -67., -67., -67., -67., -67., -67., -67., -67., -67., -67.,\n",
      "        -67., -67., -67., -67., -67., -67., -67., -67., -67., -67., -67., -67.,\n",
      "        -67., -67., -67., -67., -67., -67., -67., -67., -67., -67., -67., -67.,\n",
      "        -67., -67., -67., -67., -67., -67., -67., -67., -67., -67., -67., -67.,\n",
      "        -67., -67., -67., -67., -67., -67., -67., -67., -67., -67., -67., -67.,\n",
      "        -67., -67., -67., -67., -67., -67., -67., -67., -67., -67., -67., -67.,\n",
      "        -67., -67., -67., -67., -67., -67., -67., -67., -67., -67., -67., -67.,\n",
      "        -67., -67., -67., -67., -67., -67., -67., -67., -67., -67., -67., -67.,\n",
      "        -67., -67., -67., -67., -67., -67., -67., -67., -67., -67., -67., -67.,\n",
      "        -67., -67., -67., -67., -67., -67., -67., -67., -67., -67., -67., -67.,\n",
      "        -67., -67., -67., -67., -67., -67., -67., -67., -67., -67., -67., -67.,\n",
      "        -67., -67., -67., -67., -67., -67., -67., -67., -67., -67., -67., -67.,\n",
      "        -67., -67., -67., -67., -67., -67., -67., -67., -67., -67., -67., -67.,\n",
      "        -67., -67., -67., -67., -67., -67., -67., -67., -67., -67., -67., -67.,\n",
      "        -67., -67., -67., -67., -67., -67., -67., -67., -67., -67., -67., -67.,\n",
      "        -67., -67., -67., -67., -67., -67., -67., -67., -67., -67., -67., -67.,\n",
      "        -67., -67., -67., -67., -67., -67., -67., -67., -67., -67., -67., -67.,\n",
      "        -67., -67., -67., -67., -67., -67., -67., -67., -67., -67., -67., -67.,\n",
      "        -67., -67., -67., -67., -67., -67., -67., -67., -67., -67., -67., -67.,\n",
      "        -67., -67., -67., -67., -67., -67., -67., -67., -67., -67., -67., -67.,\n",
      "        -67., -67., -67., -67., -67., -67., -67., -67., -67., -67., -67., -67.,\n",
      "        -67., -67., -67., -67., -67., -67., -67., -67., -67., -67., -67., -67.,\n",
      "        -67.]),init_s=None,L=15,I_amp=20,)340:Fire()360:SpikeTrace(tau_s=5,offset=0,)380:NeuronAxon(max_delay=1,proximal_min_delay=0,distal_min_delay=0,apical_min_delay=0,have_trace=None,)600:Recorder(variables=None,gap_width=0,max_length=None,auto_annotate=True,tag=None,arg_0=['I', 'v'],)601:EventRecorder(variables=None,gap_width=0,max_length=None,auto_annotate=True,tag=None,arg_0=['spikes'],)}\n",
      "NeuronGroup['RefrenceFrame', '1', 'NeuronGroup', 'ng'](529){0:NeuronDimension(depth=1,height=23,width=23,input_patterns=None,)220:SimpleDendriteStructure(Proximal_max_delay=1,Distal_max_delay=1,Apical_max_delay=None,proximal_min_delay=0,distal_min_delay=0,apical_min_delay=None,)240:SimpleDendriteComputation(I_tau=None,apical_provocativeness=0.9,distal_provocativeness=None,)250:ConstantCurrent(scale=10,)260:GPCell(R=8,tau=5,threshold=-40,v_reset=-67,v_rest=-65,init_v=tensor([-67., -67., -67., -67., -67., -67., -67., -67., -67., -67., -67., -67.,\n",
      "        -67., -67., -67., -67., -67., -67., -67., -67., -67., -67., -67., -67.,\n",
      "        -67., -67., -67., -67., -67., -67., -67., -67., -67., -67., -67., -67.,\n",
      "        -67., -67., -67., -67., -67., -67., -67., -67., -67., -67., -67., -67.,\n",
      "        -67., -67., -67., -67., -67., -67., -67., -67., -67., -67., -67., -67.,\n",
      "        -67., -67., -67., -67., -67., -67., -67., -67., -67., -67., -67., -67.,\n",
      "        -67., -67., -67., -67., -67., -67., -67., -67., -67., -67., -67., -67.,\n",
      "        -67., -67., -67., -67., -67., -67., -67., -67., -67., -67., -67., -67.,\n",
      "        -67., -67., -67., -67., -67., -67., -67., -67., -67., -67., -67., -67.,\n",
      "        -67., -67., -67., -67., -67., -67., -67., -67., -67., -67., -67., -67.,\n",
      "        -67., -67., -67., -67., -67., -67., -67., -67., -67., -67., -67., -67.,\n",
      "        -67., -67., -67., -67., -67., -67., -67., -67., -67., -67., -67., -67.,\n",
      "        -67., -67., -67., -67., -67., -67., -67., -67., -67., -67., -67., -67.,\n",
      "        -67., -67., -67., -67., -67., -67., -67., -67., -67., -67., -67., -67.,\n",
      "        -67., -67., -67., -67., -67., -67., -67., -67., -67., -67., -67., -67.,\n",
      "        -67., -67., -67., -67., -67., -67., -67., -67., -67., -67., -67., -67.,\n",
      "        -67., -67., -67., -67., -67., -67., -67., -67., -67., -67., -67., -67.,\n",
      "        -67., -67., -67., -67., -67., -67., -67., -67., -67., -67., -67., -67.,\n",
      "        -67., -67., -67., -67., -67., -67., -67., -67., -67., -67., -67., -67.,\n",
      "        -67., -67., -67., -67., -67., -67., -67., -67., -67., -67., -67., -67.,\n",
      "        -67., -67., -67., -67., -67., -67., -67., -67., -67., -67., -67., -67.,\n",
      "        -67., -67., -67., -67., -67., -67., -67., -67., -67., -67., -67., -67.,\n",
      "        -67., -67., -67., -67., -67., -67., -67., -67., -67., -67., -67., -67.,\n",
      "        -67., -67., -67., -67., -67., -67., -67., -67., -67., -67., -67., -67.,\n",
      "        -67., -67., -67., -67., -67., -67., -67., -67., -67., -67., -67., -67.,\n",
      "        -67., -67., -67., -67., -67., -67., -67., -67., -67., -67., -67., -67.,\n",
      "        -67., -67., -67., -67., -67., -67., -67., -67., -67., -67., -67., -67.,\n",
      "        -67., -67., -67., -67., -67., -67., -67., -67., -67., -67., -67., -67.,\n",
      "        -67., -67., -67., -67., -67., -67., -67., -67., -67., -67., -67., -67.,\n",
      "        -67., -67., -67., -67., -67., -67., -67., -67., -67., -67., -67., -67.,\n",
      "        -67., -67., -67., -67., -67., -67., -67., -67., -67., -67., -67., -67.,\n",
      "        -67., -67., -67., -67., -67., -67., -67., -67., -67., -67., -67., -67.,\n",
      "        -67., -67., -67., -67., -67., -67., -67., -67., -67., -67., -67., -67.,\n",
      "        -67., -67., -67., -67., -67., -67., -67., -67., -67., -67., -67., -67.,\n",
      "        -67., -67., -67., -67., -67., -67., -67., -67., -67., -67., -67., -67.,\n",
      "        -67., -67., -67., -67., -67., -67., -67., -67., -67., -67., -67., -67.,\n",
      "        -67., -67., -67., -67., -67., -67., -67., -67., -67., -67., -67., -67.,\n",
      "        -67., -67., -67., -67., -67., -67., -67., -67., -67., -67., -67., -67.,\n",
      "        -67., -67., -67., -67., -67., -67., -67., -67., -67., -67., -67., -67.,\n",
      "        -67., -67., -67., -67., -67., -67., -67., -67., -67., -67., -67., -67.,\n",
      "        -67., -67., -67., -67., -67., -67., -67., -67., -67., -67., -67., -67.,\n",
      "        -67., -67., -67., -67., -67., -67., -67., -67., -67., -67., -67., -67.,\n",
      "        -67., -67., -67., -67., -67., -67., -67., -67., -67., -67., -67., -67.,\n",
      "        -67., -67., -67., -67., -67., -67., -67., -67., -67., -67., -67., -67.,\n",
      "        -67.]),init_s=None,L=15,I_amp=20,)340:Fire()360:SpikeTrace(tau_s=5,offset=0,)380:NeuronAxon(max_delay=1,proximal_min_delay=0,distal_min_delay=0,apical_min_delay=0,have_trace=None,)600:Recorder(variables=None,gap_width=0,max_length=None,auto_annotate=True,tag=None,arg_0=['I', 'v'],)601:EventRecorder(variables=None,gap_width=0,max_length=None,auto_annotate=True,tag=None,arg_0=['spikes'],)}\n",
      "NeuronGroup['inh', 'NeuronGroup', 'ng'](15){220:SimpleDendriteStructure(Proximal_max_delay=1,Distal_max_delay=1,Apical_max_delay=None,proximal_min_delay=0,distal_min_delay=0,apical_min_delay=None,)240:SimpleDendriteComputation(I_tau=None,apical_provocativeness=None,distal_provocativeness=None,)260:LIF(R=10,tau=8,threshold=-50,v_reset=-65,v_rest=-63,init_v=None,init_s=None,)340:Fire()380:NeuronAxon(max_delay=1,proximal_min_delay=0,distal_min_delay=0,apical_min_delay=0,have_trace=None,)}\n",
      "NeuronGroup['NeuronGroup_5', 'NeuronGroup', 'ng'](1){0:NeuronDimension(depth=1,height=1,width=1,input_patterns=None,)220:SimpleDendriteStructure(Proximal_max_delay=1,Distal_max_delay=1,Apical_max_delay=None,proximal_min_delay=0,distal_min_delay=0,apical_min_delay=None,)240:SimpleDendriteComputation(I_tau=None,apical_provocativeness=None,distal_provocativeness=None,)260:LIF(R=10,tau=5,threshold=-60,v_reset=-67,v_rest=-67,init_v=None,init_s=None,)270:OnlineDataLoader(data_set=tensor([[[0., 0., 0., 0., 0., 0., 0., 0., 0., 0., 0., 0., 0., 0., 0.],\n",
      "         [0., 0., 0., 0., 0., 0., 0., 0., 0., 0., 0., 0., 0., 0., 0.],\n",
      "         [0., 0., 0., 0., 0., 0., 0., 0., 0., 0., 0., 0., 0., 0., 0.],\n",
      "         [0., 0., 0., 0., 0., 0., 0., 0., 0., 0., 0., 0., 0., 0., 0.],\n",
      "         [0., 0., 0., 0., 0., 0., 0., 0., 0., 0., 0., 0., 0., 0., 0.],\n",
      "         [0., 0., 0., 0., 0., 0., 0., 0., 0., 0., 0., 0., 0., 0., 0.],\n",
      "         [0., 0., 0., 0., 0., 0., 0., 0., 0., 0., 0., 0., 0., 0., 0.],\n",
      "         [0., 0., 0., 0., 0., 0., 0., 0., 0., 0., 0., 0., 0., 0., 0.],\n",
      "         [0., 0., 0., 0., 0., 0., 0., 0., 0., 0., 0., 0., 0., 0., 0.],\n",
      "         [0., 0., 0., 0., 0., 0., 0., 0., 0., 0., 0., 0., 0., 0., 0.],\n",
      "         [0., 0., 0., 0., 0., 0., 0., 0., 0., 0., 0., 0., 0., 0., 0.],\n",
      "         [0., 0., 0., 0., 0., 0., 0., 0., 0., 0., 0., 0., 0., 0., 0.],\n",
      "         [0., 0., 0., 0., 0., 0., 0., 0., 0., 0., 0., 0., 0., 0., 0.],\n",
      "         [0., 0., 0., 0., 0., 0., 0., 0., 0., 0., 0., 0., 0., 0., 0.],\n",
      "         [0., 0., 0., 0., 0., 0., 0., 0., 0., 0., 0., 0., 0., 0., 0.]]]),batch_number=2,iterations=100,ratio=1,window_size=1,rest_interval=1,)340:Fire()360:SpikeTrace(tau_s=3,)380:NeuronAxon(max_delay=1,proximal_min_delay=0,distal_min_delay=0,apical_min_delay=0,have_trace=None,)600:Recorder(variables=None,gap_width=0,max_length=None,auto_annotate=True,tag=None,arg_0=['focus_loc'],)601:EventRecorder(variables=None,gap_width=0,max_length=None,auto_annotate=True,tag=None,arg_0=['spikes'],)}\n",
      "SynapseGroup['inh_to_refrence0', 'Proximal', 'SynapseGroup', 'syn', 'inh => RefrenceFrame'](S15xD529){2:SynapseInit(),3:WeightInitializer(mode=normal(1, 0.5),scale=1,offset=0,function=None,density=1,true_sparsity=True,weight_shape=None,kernel_shape=None,weights=None,),180:SimpleDendriticInput(current_coef=1,),}\n",
      "SynapseGroup['refrence0_to_inh', 'Proximal', 'SynapseGroup', 'syn', 'RefrenceFrame => inh'](S529xD15){2:SynapseInit(),3:WeightInitializer(mode=normal(1, 0.5),scale=1,offset=0,function=None,density=1,true_sparsity=True,weight_shape=None,kernel_shape=None,weights=None,),180:SimpleDendriticInput(current_coef=1,),}\n",
      "SynapseGroup['inh_to_refrence1', 'Proximal', 'SynapseGroup', 'syn', 'inh => RefrenceFrame'](S15xD529){2:SynapseInit(),3:WeightInitializer(mode=normal(1, 0.5),scale=1,offset=0,function=None,density=1,true_sparsity=True,weight_shape=None,kernel_shape=None,weights=None,),180:SimpleDendriticInput(current_coef=1,),}\n",
      "SynapseGroup['refrence1_to_inh', 'Proximal', 'SynapseGroup', 'syn', 'RefrenceFrame => inh'](S529xD15){2:SynapseInit(),3:WeightInitializer(mode=normal(1, 0.5),scale=1,offset=0,function=None,density=1,true_sparsity=True,weight_shape=None,kernel_shape=None,weights=None,),180:SimpleDendriticInput(current_coef=1,),}\n",
      "SynapseGroup['inh_to_inh', 'Proximal', 'SynapseGroup', 'syn', 'inh => inh'](S15xD15){2:SynapseInit(),3:WeightInitializer(mode=normal(1, 0.5),scale=1,offset=0,function=None,density=1,true_sparsity=True,weight_shape=None,kernel_shape=None,weights=None,),180:SimpleDendriticInput(current_coef=1,),}\n",
      "SynapseGroup['Lateral', 'Proximal', '0', 'SynapseGroup', 'syn', 'RefrenceFrame => RefrenceFrame'](S529xD529){2:SynapseInit(),180:GPCellLateralInhibition(current_coef=1,inhibitory=1,kernel_side=31,r=16,n=5,max_inhibition=3,),}\n",
      "SynapseGroup['Lateral', 'Proximal', '1', 'SynapseGroup', 'syn', 'RefrenceFrame => RefrenceFrame'](S529xD529){2:SynapseInit(),180:GPCellLateralInhibition(current_coef=1,inhibitory=1,kernel_side=31,r=16,n=5,max_inhibition=3,),}\n",
      "SynapseGroup['Proximal', 'SynapseGroup', 'syn', 'NeuronGroup_5 => RefrenceFrame'](S1xD529){2:SynapseInit(),275:LocationCoder(),}\n",
      "SynapseGroup['Apical', 'exi', 'SynapseGroup', 'syn', 'NeuronGroup_1 => RefrenceFrame'](S256xD529){2:SynapseInit(),3:WeightInitializer(mode=normal(2, 0.5),scale=1,offset=0,function=None,density=1,true_sparsity=True,weight_shape=None,kernel_shape=None,weights=None,),180:SimpleDendriticInput(current_coef=1,),400:SimpleSTDP(a_plus=1,a_minus=0.0008,w_min=0,w_max=10,positive_bound=None,negative_bound=None,),}\n",
      "Layer['Layer_2', 'Layer'](SubStructures(1):NeuronGroups['NeuronGroup_1']SynapseGroups[]){}\n",
      "Layer['layer_5_6', 'Layer'](SubStructures(10):NeuronGroups['RefrenceFrame', 'RefrenceFrame', 'inh']SynapseGroups['inh_to_refrence0', 'refrence0_to_inh', 'inh_to_refrence1', 'refrence1_to_inh', 'inh_to_inh', 'Lateral', 'Lateral']){300:LayerKWTA(k=25,group=RefrenceFrame,)}\n",
      "Layer['layer_5_6', 'Layer'](SubStructures(10):NeuronGroups['RefrenceFrame', 'RefrenceFrame', 'inh']SynapseGroups['inh_to_refrence0', 'refrence0_to_inh', 'inh_to_refrence1', 'refrence1_to_inh', 'inh_to_inh', 'Lateral', 'Lateral']){300:LayerKWTA(k=25,group=RefrenceFrame,)}\n",
      "Layer['loader_layer', 'Layer'](SubStructures(1):NeuronGroups['NeuronGroup_5']SynapseGroups[]){}\n",
      "Synapsis['Synapsis_17', 'Synapsis'](Synapses:['Proximal', 'Proximal']){}\n",
      "Synapsis['Synapsis_20', 'Synapsis'](Synapses:['Apical', 'Apical']){}\n",
      "Synapsis['Synapsis_23', 'Synapsis'](Synapses:[]){}\n",
      "Warning: V has to be specified for the behavior with a non None value to run properly. GPCell(R=8,tau=5,threshold=-40,v_reset=-67,v_rest=-65,init_v=tensor([-67., -67., -67., -67., -67., -67., -67., -67., -67., -67., -67., -67.,\n",
      "        -67., -67., -67., -67., -67., -67., -67., -67., -67., -67., -67., -67.,\n",
      "        -67., -67., -67., -67., -67., -67., -67., -67., -67., -67., -67., -67.,\n",
      "        -67., -67., -67., -67., -67., -67., -67., -67., -67., -67., -67., -67.,\n",
      "        -67., -67., -67., -67., -67., -67., -67., -67., -67., -67., -67., -67.,\n",
      "        -67., -67., -67., -67., -67., -67., -67., -67., -67., -67., -67., -67.,\n",
      "        -67., -67., -67., -67., -67., -67., -67., -67., -67., -67., -67., -67.,\n",
      "        -67., -67., -67., -67., -67., -67., -67., -67., -67., -67., -67., -67.,\n",
      "        -67., -67., -67., -67., -67., -67., -67., -67., -67., -67., -67., -67.,\n",
      "        -67., -67., -67., -67., -67., -67., -67., -67., -67., -67., -67., -67.,\n",
      "        -67., -67., -67., -67., -67., -67., -67., -67., -67., -67., -67., -67.,\n",
      "        -67., -67., -67., -67., -67., -67., -67., -67., -67., -67., -67., -67.,\n",
      "        -67., -67., -67., -67., -67., -67., -67., -67., -67., -67., -67., -67.,\n",
      "        -67., -67., -67., -67., -67., -67., -67., -67., -67., -67., -67., -67.,\n",
      "        -67., -67., -67., -67., -67., -67., -67., -67., -67., -67., -67., -67.,\n",
      "        -67., -67., -67., -67., -67., -67., -67., -67., -67., -67., -67., -67.,\n",
      "        -67., -67., -67., -67., -67., -67., -67., -67., -67., -67., -67., -67.,\n",
      "        -67., -67., -67., -67., -67., -67., -67., -67., -67., -67., -67., -67.,\n",
      "        -67., -67., -67., -67., -67., -67., -67., -67., -67., -67., -67., -67.,\n",
      "        -67., -67., -67., -67., -67., -67., -67., -67., -67., -67., -67., -67.,\n",
      "        -67., -67., -67., -67., -67., -67., -67., -67., -67., -67., -67., -67.,\n",
      "        -67., -67., -67., -67., -67., -67., -67., -67., -67., -67., -67., -67.,\n",
      "        -67., -67., -67., -67., -67., -67., -67., -67., -67., -67., -67., -67.,\n",
      "        -67., -67., -67., -67., -67., -67., -67., -67., -67., -67., -67., -67.,\n",
      "        -67., -67., -67., -67., -67., -67., -67., -67., -67., -67., -67., -67.,\n",
      "        -67., -67., -67., -67., -67., -67., -67., -67., -67., -67., -67., -67.,\n",
      "        -67., -67., -67., -67., -67., -67., -67., -67., -67., -67., -67., -67.,\n",
      "        -67., -67., -67., -67., -67., -67., -67., -67., -67., -67., -67., -67.,\n",
      "        -67., -67., -67., -67., -67., -67., -67., -67., -67., -67., -67., -67.,\n",
      "        -67., -67., -67., -67., -67., -67., -67., -67., -67., -67., -67., -67.,\n",
      "        -67., -67., -67., -67., -67., -67., -67., -67., -67., -67., -67., -67.,\n",
      "        -67., -67., -67., -67., -67., -67., -67., -67., -67., -67., -67., -67.,\n",
      "        -67., -67., -67., -67., -67., -67., -67., -67., -67., -67., -67., -67.,\n",
      "        -67., -67., -67., -67., -67., -67., -67., -67., -67., -67., -67., -67.,\n",
      "        -67., -67., -67., -67., -67., -67., -67., -67., -67., -67., -67., -67.,\n",
      "        -67., -67., -67., -67., -67., -67., -67., -67., -67., -67., -67., -67.,\n",
      "        -67., -67., -67., -67., -67., -67., -67., -67., -67., -67., -67., -67.,\n",
      "        -67., -67., -67., -67., -67., -67., -67., -67., -67., -67., -67., -67.,\n",
      "        -67., -67., -67., -67., -67., -67., -67., -67., -67., -67., -67., -67.,\n",
      "        -67., -67., -67., -67., -67., -67., -67., -67., -67., -67., -67., -67.,\n",
      "        -67., -67., -67., -67., -67., -67., -67., -67., -67., -67., -67., -67.,\n",
      "        -67., -67., -67., -67., -67., -67., -67., -67., -67., -67., -67., -67.,\n",
      "        -67., -67., -67., -67., -67., -67., -67., -67., -67., -67., -67., -67.,\n",
      "        -67., -67., -67., -67., -67., -67., -67., -67., -67., -67., -67., -67.,\n",
      "        -67.]),init_s=None,L=15,I_amp=20,)\n",
      "Warning: V has to be specified for the behavior with a non None value to run properly. GPCell(R=8,tau=5,threshold=-40,v_reset=-67,v_rest=-65,init_v=tensor([-67., -67., -67., -67., -67., -67., -67., -67., -67., -67., -67., -67.,\n",
      "        -67., -67., -67., -67., -67., -67., -67., -67., -67., -67., -67., -67.,\n",
      "        -67., -67., -67., -67., -67., -67., -67., -67., -67., -67., -67., -67.,\n",
      "        -67., -67., -67., -67., -67., -67., -67., -67., -67., -67., -67., -67.,\n",
      "        -67., -67., -67., -67., -67., -67., -67., -67., -67., -67., -67., -67.,\n",
      "        -67., -67., -67., -67., -67., -67., -67., -67., -67., -67., -67., -67.,\n",
      "        -67., -67., -67., -67., -67., -67., -67., -67., -67., -67., -67., -67.,\n",
      "        -67., -67., -67., -67., -67., -67., -67., -67., -67., -67., -67., -67.,\n",
      "        -67., -67., -67., -67., -67., -67., -67., -67., -67., -67., -67., -67.,\n",
      "        -67., -67., -67., -67., -67., -67., -67., -67., -67., -67., -67., -67.,\n",
      "        -67., -67., -67., -67., -67., -67., -67., -67., -67., -67., -67., -67.,\n",
      "        -67., -67., -67., -67., -67., -67., -67., -67., -67., -67., -67., -67.,\n",
      "        -67., -67., -67., -67., -67., -67., -67., -67., -67., -67., -67., -67.,\n",
      "        -67., -67., -67., -67., -67., -67., -67., -67., -67., -67., -67., -67.,\n",
      "        -67., -67., -67., -67., -67., -67., -67., -67., -67., -67., -67., -67.,\n",
      "        -67., -67., -67., -67., -67., -67., -67., -67., -67., -67., -67., -67.,\n",
      "        -67., -67., -67., -67., -67., -67., -67., -67., -67., -67., -67., -67.,\n",
      "        -67., -67., -67., -67., -67., -67., -67., -67., -67., -67., -67., -67.,\n",
      "        -67., -67., -67., -67., -67., -67., -67., -67., -67., -67., -67., -67.,\n",
      "        -67., -67., -67., -67., -67., -67., -67., -67., -67., -67., -67., -67.,\n",
      "        -67., -67., -67., -67., -67., -67., -67., -67., -67., -67., -67., -67.,\n",
      "        -67., -67., -67., -67., -67., -67., -67., -67., -67., -67., -67., -67.,\n",
      "        -67., -67., -67., -67., -67., -67., -67., -67., -67., -67., -67., -67.,\n",
      "        -67., -67., -67., -67., -67., -67., -67., -67., -67., -67., -67., -67.,\n",
      "        -67., -67., -67., -67., -67., -67., -67., -67., -67., -67., -67., -67.,\n",
      "        -67., -67., -67., -67., -67., -67., -67., -67., -67., -67., -67., -67.,\n",
      "        -67., -67., -67., -67., -67., -67., -67., -67., -67., -67., -67., -67.,\n",
      "        -67., -67., -67., -67., -67., -67., -67., -67., -67., -67., -67., -67.,\n",
      "        -67., -67., -67., -67., -67., -67., -67., -67., -67., -67., -67., -67.,\n",
      "        -67., -67., -67., -67., -67., -67., -67., -67., -67., -67., -67., -67.,\n",
      "        -67., -67., -67., -67., -67., -67., -67., -67., -67., -67., -67., -67.,\n",
      "        -67., -67., -67., -67., -67., -67., -67., -67., -67., -67., -67., -67.,\n",
      "        -67., -67., -67., -67., -67., -67., -67., -67., -67., -67., -67., -67.,\n",
      "        -67., -67., -67., -67., -67., -67., -67., -67., -67., -67., -67., -67.,\n",
      "        -67., -67., -67., -67., -67., -67., -67., -67., -67., -67., -67., -67.,\n",
      "        -67., -67., -67., -67., -67., -67., -67., -67., -67., -67., -67., -67.,\n",
      "        -67., -67., -67., -67., -67., -67., -67., -67., -67., -67., -67., -67.,\n",
      "        -67., -67., -67., -67., -67., -67., -67., -67., -67., -67., -67., -67.,\n",
      "        -67., -67., -67., -67., -67., -67., -67., -67., -67., -67., -67., -67.,\n",
      "        -67., -67., -67., -67., -67., -67., -67., -67., -67., -67., -67., -67.,\n",
      "        -67., -67., -67., -67., -67., -67., -67., -67., -67., -67., -67., -67.,\n",
      "        -67., -67., -67., -67., -67., -67., -67., -67., -67., -67., -67., -67.,\n",
      "        -67., -67., -67., -67., -67., -67., -67., -67., -67., -67., -67., -67.,\n",
      "        -67., -67., -67., -67., -67., -67., -67., -67., -67., -67., -67., -67.,\n",
      "        -67.]),init_s=None,L=15,I_amp=20,)\n",
      "Warning: \"offset\" not used in initialize of SpikeTrace(tau_s=5,offset=0,) behavior! Make sure that \"offset\" is spelled correctly and parameter(offset,...) is called in initialize. Valid attributes are: \"behavior_enabled\", \"tag\", \"device\", \"tau_s\".\n",
      "Warning: \"offset\" not used in initialize of SpikeTrace(tau_s=5,offset=0,) behavior! Make sure that \"offset\" is spelled correctly and parameter(offset,...) is called in initialize. Valid attributes are: \"behavior_enabled\", \"tag\", \"device\", \"tau_s\".\n",
      "Warning: \"offset\" not used in initialize of SpikeTrace(tau_s=5,offset=0,) behavior! Make sure that \"offset\" is spelled correctly and parameter(offset,...) is called in initialize. Valid attributes are: \"behavior_enabled\", \"tag\", \"device\", \"tau_s\".\n",
      "Warning: NeuronGroup Tag \"RefrenceFrame\" already in use. The first Tag of an Object should be unique and will be renamed to \"RefrenceFrameb\". Multiple Tags can be separated with a \",\" (NeuronGroup(..., tag=\"tag1,tag2,...\"))\n",
      "100xBatch: 1/1 (100%) 562.590ms\n"
     ]
    },
    {
     "data": {
      "text/plain": [
       "562.5901222229004"
      ]
     },
     "execution_count": 13,
     "metadata": {},
     "output_type": "execute_result"
    }
   ],
   "source": [
    "net.initialize()\n",
    "net.simulate_iterations(ITERATIONS)"
   ]
  },
  {
   "cell_type": "markdown",
   "metadata": {},
   "source": [
    "# Visualizing"
   ]
  },
  {
   "cell_type": "markdown",
   "metadata": {},
   "source": [
    "### Finding the refrence Frames"
   ]
  },
  {
   "cell_type": "code",
   "execution_count": 14,
   "metadata": {},
   "outputs": [],
   "source": [
    "refrences = []\n",
    "\n",
    "for refrence in L56.neurongroups:\n",
    "    if 'RefrenceFrame' in refrence.tags:\n",
    "        refrences.append(refrence)"
   ]
  },
  {
   "cell_type": "markdown",
   "metadata": {},
   "source": [
    "### Saving the plots"
   ]
  },
  {
   "cell_type": "code",
   "execution_count": 18,
   "metadata": {},
   "outputs": [],
   "source": [
    "refrence_frame_raster(\n",
    "    refrence_frame=refrences[0],\n",
    "    lib = SCREEN_SHOT_PATH,\n",
    "    last_itr=100,\n",
    "    step=1\n",
    ")"
   ]
  },
  {
   "cell_type": "code",
   "execution_count": 16,
   "metadata": {},
   "outputs": [
    {
     "data": {
      "text/plain": [
       "['T_destination',\n",
       " '__annotations__',\n",
       " '__call__',\n",
       " '__class__',\n",
       " '__delattr__',\n",
       " '__dict__',\n",
       " '__dir__',\n",
       " '__doc__',\n",
       " '__eq__',\n",
       " '__format__',\n",
       " '__ge__',\n",
       " '__getattr__',\n",
       " '__getattribute__',\n",
       " '__getitem__',\n",
       " '__getstate__',\n",
       " '__gt__',\n",
       " '__hash__',\n",
       " '__init__',\n",
       " '__init_subclass__',\n",
       " '__le__',\n",
       " '__lt__',\n",
       " '__module__',\n",
       " '__ne__',\n",
       " '__new__',\n",
       " '__reduce__',\n",
       " '__reduce_ex__',\n",
       " '__repr__',\n",
       " '__setattr__',\n",
       " '__setstate__',\n",
       " '__sizeof__',\n",
       " '__str__',\n",
       " '__subclasshook__',\n",
       " '__weakref__',\n",
       " '_apply',\n",
       " '_backward_hooks',\n",
       " '_backward_pre_hooks',\n",
       " '_buffers',\n",
       " '_call_impl',\n",
       " '_compiled_call_impl',\n",
       " '_forward_hooks',\n",
       " '_forward_hooks_always_called',\n",
       " '_forward_hooks_with_kwargs',\n",
       " '_forward_pre_hooks',\n",
       " '_forward_pre_hooks_with_kwargs',\n",
       " '_get_backward_hooks',\n",
       " '_get_backward_pre_hooks',\n",
       " '_get_mat',\n",
       " '_get_name',\n",
       " '_is_full_backward_hook',\n",
       " '_load_from_state_dict',\n",
       " '_load_state_dict_post_hooks',\n",
       " '_load_state_dict_pre_hooks',\n",
       " '_mat_eval_dict',\n",
       " '_maybe_warn_non_full_backward_hook',\n",
       " '_modules',\n",
       " '_named_members',\n",
       " '_non_persistent_buffers_set',\n",
       " '_parameters',\n",
       " '_port2ng',\n",
       " '_register_load_state_dict_pre_hook',\n",
       " '_register_state_dict_hook',\n",
       " '_replicate_for_data_parallel',\n",
       " '_save_to_state_dict',\n",
       " '_slow_forward',\n",
       " '_state_dict_hooks',\n",
       " '_state_dict_pre_hooks',\n",
       " '_version',\n",
       " '_wrapped_call_impl',\n",
       " 'activate_behaviors',\n",
       " 'add_analysis_module',\n",
       " 'add_behavior',\n",
       " 'add_behaviors',\n",
       " 'add_module',\n",
       " 'add_sub_structure',\n",
       " 'add_sub_structures',\n",
       " 'add_tag',\n",
       " 'all_sub_structure',\n",
       " 'analysis_modules',\n",
       " 'apply',\n",
       " 'behavior',\n",
       " 'bfloat16',\n",
       " 'buffer_roll',\n",
       " 'buffers',\n",
       " 'build_helper',\n",
       " 'call_super_init',\n",
       " 'call_tag_functions',\n",
       " 'children',\n",
       " 'clear_cache',\n",
       " 'compile',\n",
       " 'connect_dst',\n",
       " 'connect_src',\n",
       " 'cpu',\n",
       " 'create_synapses',\n",
       " 'cuda',\n",
       " 'deactivate_behaviors',\n",
       " 'def_dtype',\n",
       " 'device',\n",
       " 'double',\n",
       " 'dst',\n",
       " 'dump_patches',\n",
       " 'eval',\n",
       " 'extra_repr',\n",
       " 'find_objects',\n",
       " 'float',\n",
       " 'forward',\n",
       " 'get_all_analysis_module_results',\n",
       " 'get_buffer',\n",
       " 'get_buffer_mat',\n",
       " 'get_extra_state',\n",
       " 'get_parameter',\n",
       " 'get_submodule',\n",
       " 'half',\n",
       " 'has_module',\n",
       " 'input_port',\n",
       " 'input_ports',\n",
       " 'ipu',\n",
       " 'iteration',\n",
       " 'load_state_dict',\n",
       " 'modules',\n",
       " 'named_buffers',\n",
       " 'named_children',\n",
       " 'named_modules',\n",
       " 'named_parameters',\n",
       " 'network',\n",
       " 'output_port',\n",
       " 'output_ports',\n",
       " 'parameters',\n",
       " 'parent_structure',\n",
       " 'ports_helper',\n",
       " 'recording',\n",
       " 'register_backward_hook',\n",
       " 'register_buffer',\n",
       " 'register_forward_hook',\n",
       " 'register_forward_pre_hook',\n",
       " 'register_full_backward_hook',\n",
       " 'register_full_backward_pre_hook',\n",
       " 'register_load_state_dict_post_hook',\n",
       " 'register_module',\n",
       " 'register_parameter',\n",
       " 'register_state_dict_pre_hook',\n",
       " 'remove_behavior',\n",
       " 'required_helper',\n",
       " 'requires_grad_',\n",
       " 'save_helper',\n",
       " 'set_behaviors',\n",
       " 'set_extra_state',\n",
       " 'set_tag_attrs',\n",
       " 'share_memory',\n",
       " 'src',\n",
       " 'state_dict',\n",
       " 'sub_structures',\n",
       " 'synapses',\n",
       " 'synapsis_behavior',\n",
       " 'synaptic_tag',\n",
       " 'tag',\n",
       " 'tag_shortcuts',\n",
       " 'tags',\n",
       " 'tensor',\n",
       " 'to',\n",
       " 'to_empty',\n",
       " 'train',\n",
       " 'training',\n",
       " 'type',\n",
       " 'xpu',\n",
       " 'zero_grad']"
      ]
     },
     "execution_count": 16,
     "metadata": {},
     "output_type": "execute_result"
    }
   ],
   "source": [
    "dir(L56_to_L23)"
   ]
  },
  {
   "cell_type": "code",
   "execution_count": 17,
   "metadata": {},
   "outputs": [
    {
     "data": {
      "text/plain": [
       "[<matplotlib.lines.Line2D at 0x259b44d7090>]"
      ]
     },
     "execution_count": 17,
     "metadata": {},
     "output_type": "execute_result"
    },
    {
     "data": {
      "image/png": "[encoded data removed]",
      "text/plain": [
       "<Figure size 640x480 with 1 Axes>"
      ]
     },
     "metadata": {},
     "output_type": "display_data"
    }
   ],
   "source": [
    "pos_x = InputLayer.neurongroups[0][\"focus_loc\", 0][:99,0]\n",
    "pos_y = InputLayer.neurongroups[0][\"focus_loc\", 0][:99,1]\n",
    "\n",
    "pos_x, pos_y\n",
    "plt.plot(pos_x, pos_y, '--o')\n",
    "plt.plot(pos_x[0], pos_y[0], 'o')"
   ]
  },
  {
   "cell_type": "code",
   "execution_count": null,
   "metadata": {},
   "outputs": [],
   "source": []
  }
 ],
 "metadata": {
  "kernelspec": {
   "display_name": "Python 3",
   "language": "python",
   "name": "python3"
  },
  "language_info": {
   "codemirror_mode": {
    "name": "ipython",
    "version": 3
   },
   "file_extension": ".py",
   "mimetype": "text/x-python",
   "name": "python",
   "nbconvert_exporter": "python",
   "pygments_lexer": "ipython3",
   "version": "3.11.2"
  }
 },
 "nbformat": 4,
 "nbformat_minor": 2
}
