{
 "cells": [
  {
   "cell_type": "markdown",
   "metadata": {},
   "source": [
    "# Settings"
   ]
  },
  {
   "cell_type": "markdown",
   "metadata": {},
   "source": [
    "### Autoreload of ipynb"
   ]
  },
  {
   "cell_type": "code",
   "execution_count": null,
   "metadata": {},
   "outputs": [],
   "source": [
    "%reload_ext autoreload\n",
    "%autoreload 2"
   ]
  },
  {
   "cell_type": "markdown",
   "metadata": {},
   "source": [
    "### Changing the path to the main directories path"
   ]
  },
  {
   "cell_type": "code",
   "execution_count": null,
   "metadata": {},
   "outputs": [],
   "source": [
    "import os\n",
    "os.chdir(r\"C:\\Users\\amilion\\Documents\\GitHub\\CNRL-Cortical-Column\\src\")\n",
    "os.getcwd()"
   ]
  },
  {
   "cell_type": "markdown",
   "metadata": {},
   "source": [
    "# Imports"
   ]
  },
  {
   "cell_type": "code",
   "execution_count": 3,
   "metadata": {},
   "outputs": [],
   "source": [
    "from conex import *\n",
    "from pymonntorch import *\n",
    "\n",
    "from matplotlib import pyplot as plt\n",
    "\n",
    "from L56.RefrenceFrames import RefrenceFrame\n",
    "from L56.stimuli.current_base import RandomInputCurrent\n",
    "from L56.synapse.vDistributor import ManualVCoder\n",
    "from InputLayer.DataLoaderLayer import DataLoaderLayer\n",
    "from InputLayer.synapse.LocationCoder import LocationCoder\n",
    "from L423.network.SetTarget import SetTarget\n",
    "\n",
    "from L56.tools.visualization import refrence_frame_raster\n",
    "from L423.tools.visualize import show_filters\n",
    "\n",
    "from torchvision.datasets import MNIST"
   ]
  },
  {
   "cell_type": "markdown",
   "metadata": {},
   "source": [
    "# Configs"
   ]
  },
  {
   "cell_type": "code",
   "execution_count": 2,
   "metadata": {},
   "outputs": [],
   "source": [
    "REFRENCE_FRAME_DIM = 23\n",
    "REFRENCE_INH_DIM = 15\n",
    "ITERATIONS = 240\n",
    "REST_INTERVAL = 20\n",
    "TEST_ITERATIONS = 100\n",
    "SCREEN_SHOT_PATH = \"C:\\\\Users\\\\amilion\\\\Desktop\\\\develop\\\\python\\\\NS\\\\records\\\\L5.6\"\n",
    "\n",
    "Input_Width = 28\n",
    "Input_Height = 28\n",
    "Crop_Window_Width = 23\n",
    "Crop_Window_Height = 23\n",
    "DoG_SIZE = 5\n",
    "\n",
    "IMAGE_WIDTH = 28\n",
    "IMAGE_HEIGHT = 28\n",
    "IMAGE_NUMBER = 100\n",
    "\n",
    "OUT_CHANNEL = 8\n",
    "IN_CHANNEL = 1\n",
    "KERNEL_WIDTH = 13\n",
    "KERNEL_HEIGHT = 13\n",
    "\n",
    "DATASET_IMAGE_WIDTH = IMAGE_WIDTH - DoG_SIZE + 1\n",
    "DATASET_IMAGE_HEIGHT = IMAGE_HEIGHT - DoG_SIZE + 1\n",
    "INPUT_WIDTH = Crop_Window_Width - DoG_SIZE + 1\n",
    "INPUT_HEIGHT = Crop_Window_Height - DoG_SIZE + 1\n",
    "\n",
    "L4_WIDTH = Crop_Window_Width - KERNEL_WIDTH + 1\n",
    "L4_HEIGHT = Crop_Window_Height - KERNEL_HEIGHT + 1\n",
    "\n",
    "L23_WIDTH = L4_WIDTH//2\n",
    "L23_HEIGHT = L4_HEIGHT//2\n",
    "\n",
    "J_0 = 300\n",
    "p = 0.8"
   ]
  },
  {
   "cell_type": "markdown",
   "metadata": {},
   "source": [
    "# Loading Data"
   ]
  },
  {
   "cell_type": "code",
   "execution_count": null,
   "metadata": {},
   "outputs": [],
   "source": []
  }
 ],
 "metadata": {
  "kernelspec": {
   "display_name": "Python 3",
   "language": "python",
   "name": "python3"
  },
  "language_info": {
   "codemirror_mode": {
    "name": "ipython",
    "version": 3
   },
   "file_extension": ".py",
   "mimetype": "text/x-python",
   "name": "python",
   "nbconvert_exporter": "python",
   "pygments_lexer": "ipython3",
   "version": "3.11.2"
  }
 },
 "nbformat": 4,
 "nbformat_minor": 2
}
