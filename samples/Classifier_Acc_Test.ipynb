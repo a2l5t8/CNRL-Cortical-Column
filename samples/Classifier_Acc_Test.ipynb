{
 "cells": [
  {
   "cell_type": "markdown",
   "metadata": {},
   "source": [
    "# Setup"
   ]
  },
  {
   "cell_type": "code",
   "execution_count": 125,
   "metadata": {},
   "outputs": [],
   "source": [
    "import numpy as np\n",
    "\n",
    "from sklearn.model_selection import train_test_split\n",
    "from sklearn.metrics import accuracy_score, confusion_matrix, hinge_loss\n",
    "\n",
    "import random\n",
    "\n",
    "import torch\n",
    "import pandas as pd\n",
    "from matplotlib import pyplot as plt\n",
    "\n",
    "from torchvision import transforms\n",
    "import torchvision\n",
    "from torch.utils.data import DataLoader\n",
    "\n",
    "from conex.helpers.filters import DoGFilter\n",
    "from conex.helpers.transforms.misc import Conv2dFilter\n",
    "\n",
    "from tqdm import tqdm\n",
    "\n",
    "from PIL import Image\n"
   ]
  },
  {
   "cell_type": "markdown",
   "metadata": {},
   "source": [
    "# Visualize"
   ]
  },
  {
   "cell_type": "code",
   "execution_count": 18,
   "metadata": {},
   "outputs": [],
   "source": [
    "def load_image(path,size = None):\n",
    "    img = cv2.imread(path)\n",
    "    if(size):\n",
    "        img = cv2.resize(img,size)\n",
    "    return torch.tensor(img[:,:,0],dtype=torch.float32)\n",
    "\n",
    "def show_image(image,normal=False):\n",
    "    plt.axis(\"off\")\n",
    "    if(normal):\n",
    "        plt.imshow(image,cmap='gray',vmin=0,vmax=255)\n",
    "    else:\n",
    "        plt.imshow(image,cmap='gray')\n",
    "    plt.show()\n",
    "    \n",
    "\n",
    "def show_filters(weight):\n",
    "    fig,axes = plt.subplots(1,weight.shape[0])\n",
    "    fig.set_size_inches(5*weight.shape[0], 5)\n",
    "    # fig.suptitle(f'plots of synaptic share weights for d = {weight.shape[0]}')\n",
    "    for i in range(weight.shape[0]):\n",
    "        axes[i].imshow(weight[i][0],cmap='gray')\n",
    "        axes[i].axis('off')\n",
    "        \n",
    "        \n",
    "def show_images(imgs,title,count):\n",
    "    fig,axes = plt.subplots(1,count)\n",
    "    fig.set_size_inches(5*count, 5)\n",
    "    plt.text(x=0.5, y=0.94, s=title, fontsize=28, ha=\"center\", transform=fig.transFigure)\n",
    "    for i in range(count):\n",
    "        axes[i].imshow(imgs[i][0][0],cmap='gray')\n",
    "        axes[i].axis('off')\n",
    "\n",
    "\n",
    "def confidence_crop_interspace(inp_width, inp_height, window_width, window_height):\n",
    "    x1 = window_width//2\n",
    "    x2 = (inp_width - 1) - (window_width//2)\n",
    "    y1 = window_height//2 \n",
    "    y2 = (inp_height - 1) - (window_height//2)\n",
    "\n",
    "    center_x = random.randint(x1, x2)\n",
    "    center_y = random.randint(y1, y2)\n",
    "    center_coordinates = [center_x, center_y]\n",
    "    top_left_x = center_x - (window_width//2)\n",
    "    top_left_y = center_y - (window_height//2)\n",
    "    top_left_coordinates = [top_left_x, top_left_y]\n",
    "    coordinates = [center_coordinates, top_left_coordinates]\n",
    "\n",
    "    return coordinates\n"
   ]
  },
  {
   "cell_type": "markdown",
   "metadata": {},
   "source": [
    "# CONFIG"
   ]
  },
  {
   "cell_type": "code",
   "execution_count": 81,
   "metadata": {},
   "outputs": [],
   "source": [
    "Input_Width = 28\n",
    "Input_Height = 28\n",
    "Crop_Window_Width = 21\n",
    "Crop_Window_Height = 21\n",
    "DoG_SIZE = 5\n",
    "\n",
    "IMAGE_WIDTH = 28\n",
    "IMAGE_HEIGHT = 28\n",
    "\n",
    "OUT_CHANNEL = 8\n",
    "IN_CHANNEL = 1\n",
    "KERNEL_WIDTH = 13\n",
    "KERNEL_HEIGHT = 13\n",
    "\n",
    "# INPUT_WIDTH = IMAGE_WIDTH - DoG_SIZE + 1\n",
    "# INPUT_HEIGHT = IMAGE_HEIGHT - DoG_SIZE + 1\n",
    "INPUT_WIDTH = Crop_Window_Width - DoG_SIZE + 1\n",
    "INPUT_HEIGHT = Crop_Window_Height - DoG_SIZE + 1\n",
    "\n",
    "L4_WIDTH = INPUT_WIDTH - KERNEL_WIDTH + 1\n",
    "L4_HEIGHT = INPUT_HEIGHT - KERNEL_HEIGHT + 1\n",
    "\n",
    "L23_WIDTH = L4_WIDTH//2\n",
    "L23_HEIGHT = L4_HEIGHT//2\n",
    "\n",
    "J_0 = 300\n",
    "p = 0.8"
   ]
  },
  {
   "cell_type": "markdown",
   "metadata": {},
   "source": [
    "# DataLoader (MNIST)"
   ]
  },
  {
   "cell_type": "code",
   "execution_count": 82,
   "metadata": {},
   "outputs": [],
   "source": [
    "from torchvision.datasets import MNIST\n",
    "MNIST_ROOT = \"./MNIST\""
   ]
  },
  {
   "cell_type": "code",
   "execution_count": 166,
   "metadata": {},
   "outputs": [],
   "source": [
    "def DataLoadMNIST(C1 = 4, C2 = 9, sz = 100, crop_iteration = 3) :\n",
    "    time_window = 100\n",
    "\n",
    "    dataset_directory_path = \"./first_step\"\n",
    "\n",
    "    transformation = transforms.Compose([\n",
    "        transforms.ToTensor(),\n",
    "        transforms.Grayscale(num_output_channels = 1), # not necessary\n",
    "        Conv2dFilter(DoGFilter(size = 5, sigma_1 = 4, sigma_2 = 1, zero_mean=True, one_sum=True).unsqueeze(0).unsqueeze(0)),\n",
    "        # SqueezeTransform(dim = 0),\n",
    "        # SimplePoisson(time_window = time_window , ratio = 2),\n",
    "    ])\n",
    "\n",
    "\n",
    "    dataset = MNIST(root=MNIST_ROOT, train=True, download=False, transform=transformation)\n",
    "    first_class = dataset.data[dataset.targets == C1][:sz]\n",
    "    second_class = dataset.data[dataset.targets == C2][:sz]\n",
    "\n",
    "    target = [0] * len(first_class) * crop_iteration + [1] * len(second_class) * crop_iteration\n",
    "    target = torch.Tensor(target)\n",
    "\n",
    "    two_class_dataset = torch.cat((first_class, second_class), dim=0)\n",
    "    new_dataset_size = first_class.shape[0] + second_class.shape[0]\n",
    "\n",
    "    new_dataset = torch.empty(0,Crop_Window_Width - DoG_SIZE + 1, Crop_Window_Height - DoG_SIZE + 1)\n",
    "    centers = []\n",
    "\n",
    "\n",
    "    for i in tqdm(range(0, new_dataset_size)):\n",
    "        for j in range (0, crop_iteration):\n",
    "            img = two_class_dataset[i]  # 4 in range [0, 5842) ; 9 in range [5842, 11791)\n",
    "            img = Image.fromarray(img.numpy(), mode=\"L\")\n",
    "            a = confidence_crop_interspace(Input_Width, Input_Height, Crop_Window_Width, Crop_Window_Height)\n",
    "            centers.append((a[0][0], a[0][1]))\n",
    "            cropped_image = torchvision.transforms.functional.crop(img, a[1][1], a[1][0], Crop_Window_Width, Crop_Window_Height)\n",
    "            # cropped_image = Image.fromarray(cropped_image.numpy(), mode=\"L\")\n",
    "            # cropped_image = img\n",
    "            cropped_image = transformation(cropped_image)\n",
    "            cropped_image = cropped_image.view(1, Crop_Window_Width - DoG_SIZE + 1, Crop_Window_Height - DoG_SIZE + 1)\n",
    "            new_dataset = torch.cat((new_dataset.data, cropped_image.data), dim=0)\n",
    "\n",
    "    print(new_dataset.shape)\n",
    "    dl = DataLoader(new_dataset,shuffle=True)\n",
    "\n",
    "    new_dataset = new_dataset.view(new_dataset_size * crop_iteration, -1)\n",
    "    np_data = new_dataset.numpy()\n",
    "    np_target = target.numpy()\n",
    "\n",
    "    return np_data, np_target"
   ]
  },
  {
   "cell_type": "code",
   "execution_count": 167,
   "metadata": {},
   "outputs": [
    {
     "name": "stderr",
     "output_type": "stream",
     "text": [
      "100%|██████████| 200/200 [00:00<00:00, 334.37it/s]"
     ]
    },
    {
     "name": "stdout",
     "output_type": "stream",
     "text": [
      "torch.Size([600, 17, 17])\n"
     ]
    },
    {
     "name": "stderr",
     "output_type": "stream",
     "text": [
      "\n"
     ]
    }
   ],
   "source": [
    "np_data, np_target = DataLoadMNIST(4, 9, 100)"
   ]
  },
  {
   "cell_type": "markdown",
   "metadata": {},
   "source": [
    "# ML-Based Dataset"
   ]
  },
  {
   "cell_type": "code",
   "execution_count": 169,
   "metadata": {},
   "outputs": [
    {
     "data": {
      "text/plain": [
       "(600,)"
      ]
     },
     "execution_count": 169,
     "metadata": {},
     "output_type": "execute_result"
    }
   ],
   "source": [
    "np_target.shape"
   ]
  },
  {
   "cell_type": "code",
   "execution_count": 159,
   "metadata": {},
   "outputs": [
    {
     "data": {
      "text/plain": [
       "torch.Size([360, 289])"
      ]
     },
     "execution_count": 159,
     "metadata": {},
     "output_type": "execute_result"
    }
   ],
   "source": [
    "new_dataset = new_dataset.view(new_dataset_size * crop_iteration, -1)\n",
    "new_dataset.shape"
   ]
  },
  {
   "cell_type": "code",
   "execution_count": 160,
   "metadata": {},
   "outputs": [],
   "source": [
    "np_data = new_dataset.numpy()\n",
    "np_target = target.numpy()"
   ]
  },
  {
   "cell_type": "code",
   "execution_count": 161,
   "metadata": {},
   "outputs": [],
   "source": [
    "X_train, X_test, y_train, y_test = train_test_split(np_data, np_target, test_size=0.33, random_state=42)"
   ]
  },
  {
   "cell_type": "markdown",
   "metadata": {},
   "source": [
    "# Modeling"
   ]
  },
  {
   "cell_type": "code",
   "execution_count": 162,
   "metadata": {},
   "outputs": [],
   "source": [
    "from sklearn.linear_model import  SGDClassifier\n",
    "from sklearn.ensemble import RandomForestClassifier\n",
    "from sklearn.neighbors import KNeighborsClassifier\n",
    "from sklearn.svm import SVC\n",
    "from sklearn.linear_model import LogisticRegression\n",
    "from sklearn.tree import DecisionTreeClassifier\n",
    "from sklearn.ensemble import AdaBoostClassifier\n",
    "from sklearn.gaussian_process import GaussianProcessClassifier\n",
    "from sklearn.gaussian_process.kernels import RBF\n",
    "from sklearn.naive_bayes import GaussianNB\n",
    "from sklearn.neural_network import MLPClassifier"
   ]
  },
  {
   "cell_type": "code",
   "execution_count": 163,
   "metadata": {},
   "outputs": [],
   "source": [
    "classifiers = [\n",
    "    SGDClassifier(max_iter = 1000, tol = 1e-3),\n",
    "    RandomForestClassifier(max_depth = 3),\n",
    "    KNeighborsClassifier(n_neighbors = 3),\n",
    "    SVC(gamma = 'auto'),\n",
    "    LogisticRegression(),\n",
    "    DecisionTreeClassifier(max_depth = 3),\n",
    "    AdaBoostClassifier(algorithm=\"SAMME\"),\n",
    "    MLPClassifier(alpha=1, max_iter=1000),\n",
    "    GaussianProcessClassifier(1.0 * RBF(1.0)),\n",
    "    GaussianNB(),\n",
    "]"
   ]
  },
  {
   "cell_type": "code",
   "execution_count": 164,
   "metadata": {},
   "outputs": [],
   "source": [
    "res = []\n",
    "\n",
    "for clf in classifiers : \n",
    "    clf.fit(X_train, y_train)\n",
    "\n",
    "    y_train_pred = clf.predict(X_train)\n",
    "    y_test_pred = clf.predict(X_test)\n",
    "\n",
    "    train_acc = accuracy_score(y_train, y_train_pred)\n",
    "    test_acc = accuracy_score(y_test, y_test_pred)\n",
    "\n",
    "    res.append({\n",
    "        \"classifier\" : type(clf).__name__,\n",
    "        \"train_acc\" : train_acc,\n",
    "        \"test_acc\" : test_acc\n",
    "    })"
   ]
  },
  {
   "cell_type": "markdown",
   "metadata": {},
   "source": [
    "# Final Results"
   ]
  },
  {
   "cell_type": "code",
   "execution_count": 165,
   "metadata": {},
   "outputs": [
    {
     "data": {
      "text/html": [
       "<div>\n",
       "<style scoped>\n",
       "    .dataframe tbody tr th:only-of-type {\n",
       "        vertical-align: middle;\n",
       "    }\n",
       "\n",
       "    .dataframe tbody tr th {\n",
       "        vertical-align: top;\n",
       "    }\n",
       "\n",
       "    .dataframe thead th {\n",
       "        text-align: right;\n",
       "    }\n",
       "</style>\n",
       "<table border=\"1\" class=\"dataframe\">\n",
       "  <thead>\n",
       "    <tr style=\"text-align: right;\">\n",
       "      <th></th>\n",
       "      <th>classifier</th>\n",
       "      <th>train_acc</th>\n",
       "      <th>test_acc</th>\n",
       "    </tr>\n",
       "  </thead>\n",
       "  <tbody>\n",
       "    <tr>\n",
       "      <th>2</th>\n",
       "      <td>KNeighborsClassifier</td>\n",
       "      <td>0.896266</td>\n",
       "      <td>0.739496</td>\n",
       "    </tr>\n",
       "    <tr>\n",
       "      <th>1</th>\n",
       "      <td>RandomForestClassifier</td>\n",
       "      <td>0.937759</td>\n",
       "      <td>0.731092</td>\n",
       "    </tr>\n",
       "    <tr>\n",
       "      <th>8</th>\n",
       "      <td>GaussianProcessClassifier</td>\n",
       "      <td>1.000000</td>\n",
       "      <td>0.705882</td>\n",
       "    </tr>\n",
       "    <tr>\n",
       "      <th>6</th>\n",
       "      <td>AdaBoostClassifier</td>\n",
       "      <td>0.995851</td>\n",
       "      <td>0.697479</td>\n",
       "    </tr>\n",
       "    <tr>\n",
       "      <th>7</th>\n",
       "      <td>MLPClassifier</td>\n",
       "      <td>0.991701</td>\n",
       "      <td>0.689076</td>\n",
       "    </tr>\n",
       "    <tr>\n",
       "      <th>5</th>\n",
       "      <td>DecisionTreeClassifier</td>\n",
       "      <td>0.842324</td>\n",
       "      <td>0.663866</td>\n",
       "    </tr>\n",
       "    <tr>\n",
       "      <th>0</th>\n",
       "      <td>SGDClassifier</td>\n",
       "      <td>0.908714</td>\n",
       "      <td>0.655462</td>\n",
       "    </tr>\n",
       "    <tr>\n",
       "      <th>9</th>\n",
       "      <td>GaussianNB</td>\n",
       "      <td>0.780083</td>\n",
       "      <td>0.655462</td>\n",
       "    </tr>\n",
       "    <tr>\n",
       "      <th>4</th>\n",
       "      <td>LogisticRegression</td>\n",
       "      <td>0.854772</td>\n",
       "      <td>0.613445</td>\n",
       "    </tr>\n",
       "    <tr>\n",
       "      <th>3</th>\n",
       "      <td>SVC</td>\n",
       "      <td>0.510373</td>\n",
       "      <td>0.478992</td>\n",
       "    </tr>\n",
       "  </tbody>\n",
       "</table>\n",
       "</div>"
      ],
      "text/plain": [
       "                  classifier  train_acc  test_acc\n",
       "2       KNeighborsClassifier   0.896266  0.739496\n",
       "1     RandomForestClassifier   0.937759  0.731092\n",
       "8  GaussianProcessClassifier   1.000000  0.705882\n",
       "6         AdaBoostClassifier   0.995851  0.697479\n",
       "7              MLPClassifier   0.991701  0.689076\n",
       "5     DecisionTreeClassifier   0.842324  0.663866\n",
       "0              SGDClassifier   0.908714  0.655462\n",
       "9                 GaussianNB   0.780083  0.655462\n",
       "4         LogisticRegression   0.854772  0.613445\n",
       "3                        SVC   0.510373  0.478992"
      ]
     },
     "execution_count": 165,
     "metadata": {},
     "output_type": "execute_result"
    }
   ],
   "source": [
    "df = pd.DataFrame(res)\n",
    "df.sort_values(by = ['test_acc'], ascending = False)"
   ]
  },
  {
   "cell_type": "markdown",
   "metadata": {},
   "source": [
    "# Results on 60 * 2 * 3 images"
   ]
  },
  {
   "cell_type": "code",
   "execution_count": 171,
   "metadata": {},
   "outputs": [
    {
     "name": "stderr",
     "output_type": "stream",
     "text": [
      "100%|██████████| 120/120 [00:00<00:00, 319.45it/s]\n"
     ]
    },
    {
     "name": "stdout",
     "output_type": "stream",
     "text": [
      "torch.Size([360, 17, 17])\n"
     ]
    },
    {
     "data": {
      "text/html": [
       "<div>\n",
       "<style scoped>\n",
       "    .dataframe tbody tr th:only-of-type {\n",
       "        vertical-align: middle;\n",
       "    }\n",
       "\n",
       "    .dataframe tbody tr th {\n",
       "        vertical-align: top;\n",
       "    }\n",
       "\n",
       "    .dataframe thead th {\n",
       "        text-align: right;\n",
       "    }\n",
       "</style>\n",
       "<table border=\"1\" class=\"dataframe\">\n",
       "  <thead>\n",
       "    <tr style=\"text-align: right;\">\n",
       "      <th></th>\n",
       "      <th>classifier</th>\n",
       "      <th>train_acc</th>\n",
       "      <th>test_acc</th>\n",
       "    </tr>\n",
       "  </thead>\n",
       "  <tbody>\n",
       "    <tr>\n",
       "      <th>2</th>\n",
       "      <td>KNeighborsClassifier</td>\n",
       "      <td>0.900415</td>\n",
       "      <td>0.773109</td>\n",
       "    </tr>\n",
       "    <tr>\n",
       "      <th>6</th>\n",
       "      <td>AdaBoostClassifier</td>\n",
       "      <td>0.995851</td>\n",
       "      <td>0.739496</td>\n",
       "    </tr>\n",
       "    <tr>\n",
       "      <th>8</th>\n",
       "      <td>GaussianProcessClassifier</td>\n",
       "      <td>1.000000</td>\n",
       "      <td>0.739496</td>\n",
       "    </tr>\n",
       "    <tr>\n",
       "      <th>7</th>\n",
       "      <td>MLPClassifier</td>\n",
       "      <td>0.983402</td>\n",
       "      <td>0.705882</td>\n",
       "    </tr>\n",
       "    <tr>\n",
       "      <th>1</th>\n",
       "      <td>RandomForestClassifier</td>\n",
       "      <td>0.937759</td>\n",
       "      <td>0.689076</td>\n",
       "    </tr>\n",
       "    <tr>\n",
       "      <th>4</th>\n",
       "      <td>LogisticRegression</td>\n",
       "      <td>0.863071</td>\n",
       "      <td>0.647059</td>\n",
       "    </tr>\n",
       "    <tr>\n",
       "      <th>5</th>\n",
       "      <td>DecisionTreeClassifier</td>\n",
       "      <td>0.800830</td>\n",
       "      <td>0.621849</td>\n",
       "    </tr>\n",
       "    <tr>\n",
       "      <th>0</th>\n",
       "      <td>SGDClassifier</td>\n",
       "      <td>0.863071</td>\n",
       "      <td>0.605042</td>\n",
       "    </tr>\n",
       "    <tr>\n",
       "      <th>9</th>\n",
       "      <td>GaussianNB</td>\n",
       "      <td>0.738589</td>\n",
       "      <td>0.579832</td>\n",
       "    </tr>\n",
       "    <tr>\n",
       "      <th>3</th>\n",
       "      <td>SVC</td>\n",
       "      <td>0.510373</td>\n",
       "      <td>0.478992</td>\n",
       "    </tr>\n",
       "  </tbody>\n",
       "</table>\n",
       "</div>"
      ],
      "text/plain": [
       "                  classifier  train_acc  test_acc\n",
       "2       KNeighborsClassifier   0.900415  0.773109\n",
       "6         AdaBoostClassifier   0.995851  0.739496\n",
       "8  GaussianProcessClassifier   1.000000  0.739496\n",
       "7              MLPClassifier   0.983402  0.705882\n",
       "1     RandomForestClassifier   0.937759  0.689076\n",
       "4         LogisticRegression   0.863071  0.647059\n",
       "5     DecisionTreeClassifier   0.800830  0.621849\n",
       "0              SGDClassifier   0.863071  0.605042\n",
       "9                 GaussianNB   0.738589  0.579832\n",
       "3                        SVC   0.510373  0.478992"
      ]
     },
     "execution_count": 171,
     "metadata": {},
     "output_type": "execute_result"
    }
   ],
   "source": [
    "np_data, np_target = DataLoadMNIST(4, 9, 60)\n",
    "X_train, X_test, y_train, y_test = train_test_split(np_data, np_target, test_size=0.33, random_state=42)\n",
    "\n",
    "res = []\n",
    "\n",
    "for clf in classifiers : \n",
    "    clf.fit(X_train, y_train)\n",
    "\n",
    "    y_train_pred = clf.predict(X_train)\n",
    "    y_test_pred = clf.predict(X_test)\n",
    "\n",
    "    train_acc = accuracy_score(y_train, y_train_pred)\n",
    "    test_acc = accuracy_score(y_test, y_test_pred)\n",
    "\n",
    "    res.append({\n",
    "        \"classifier\" : type(clf).__name__,\n",
    "        \"train_acc\" : train_acc,\n",
    "        \"test_acc\" : test_acc\n",
    "    })\n",
    "\n",
    "df = pd.DataFrame(res)\n",
    "df.sort_values(by = ['test_acc'], ascending = False)"
   ]
  },
  {
   "cell_type": "markdown",
   "metadata": {},
   "source": [
    "# Results on 100 * 2 * 3 images"
   ]
  },
  {
   "cell_type": "code",
   "execution_count": 172,
   "metadata": {},
   "outputs": [
    {
     "name": "stderr",
     "output_type": "stream",
     "text": [
      "100%|██████████| 200/200 [00:00<00:00, 331.30it/s]\n"
     ]
    },
    {
     "name": "stdout",
     "output_type": "stream",
     "text": [
      "torch.Size([600, 17, 17])\n"
     ]
    },
    {
     "data": {
      "text/html": [
       "<div>\n",
       "<style scoped>\n",
       "    .dataframe tbody tr th:only-of-type {\n",
       "        vertical-align: middle;\n",
       "    }\n",
       "\n",
       "    .dataframe tbody tr th {\n",
       "        vertical-align: top;\n",
       "    }\n",
       "\n",
       "    .dataframe thead th {\n",
       "        text-align: right;\n",
       "    }\n",
       "</style>\n",
       "<table border=\"1\" class=\"dataframe\">\n",
       "  <thead>\n",
       "    <tr style=\"text-align: right;\">\n",
       "      <th></th>\n",
       "      <th>classifier</th>\n",
       "      <th>train_acc</th>\n",
       "      <th>test_acc</th>\n",
       "    </tr>\n",
       "  </thead>\n",
       "  <tbody>\n",
       "    <tr>\n",
       "      <th>8</th>\n",
       "      <td>GaussianProcessClassifier</td>\n",
       "      <td>1.000000</td>\n",
       "      <td>0.792929</td>\n",
       "    </tr>\n",
       "    <tr>\n",
       "      <th>1</th>\n",
       "      <td>RandomForestClassifier</td>\n",
       "      <td>0.905473</td>\n",
       "      <td>0.772727</td>\n",
       "    </tr>\n",
       "    <tr>\n",
       "      <th>2</th>\n",
       "      <td>KNeighborsClassifier</td>\n",
       "      <td>0.915423</td>\n",
       "      <td>0.767677</td>\n",
       "    </tr>\n",
       "    <tr>\n",
       "      <th>6</th>\n",
       "      <td>AdaBoostClassifier</td>\n",
       "      <td>0.880597</td>\n",
       "      <td>0.717172</td>\n",
       "    </tr>\n",
       "    <tr>\n",
       "      <th>0</th>\n",
       "      <td>SGDClassifier</td>\n",
       "      <td>0.781095</td>\n",
       "      <td>0.666667</td>\n",
       "    </tr>\n",
       "    <tr>\n",
       "      <th>4</th>\n",
       "      <td>LogisticRegression</td>\n",
       "      <td>0.743781</td>\n",
       "      <td>0.656566</td>\n",
       "    </tr>\n",
       "    <tr>\n",
       "      <th>5</th>\n",
       "      <td>DecisionTreeClassifier</td>\n",
       "      <td>0.766169</td>\n",
       "      <td>0.641414</td>\n",
       "    </tr>\n",
       "    <tr>\n",
       "      <th>9</th>\n",
       "      <td>GaussianNB</td>\n",
       "      <td>0.691542</td>\n",
       "      <td>0.626263</td>\n",
       "    </tr>\n",
       "    <tr>\n",
       "      <th>3</th>\n",
       "      <td>SVC</td>\n",
       "      <td>0.512438</td>\n",
       "      <td>0.474747</td>\n",
       "    </tr>\n",
       "    <tr>\n",
       "      <th>7</th>\n",
       "      <td>MLPClassifier</td>\n",
       "      <td>0.514925</td>\n",
       "      <td>0.464646</td>\n",
       "    </tr>\n",
       "  </tbody>\n",
       "</table>\n",
       "</div>"
      ],
      "text/plain": [
       "                  classifier  train_acc  test_acc\n",
       "8  GaussianProcessClassifier   1.000000  0.792929\n",
       "1     RandomForestClassifier   0.905473  0.772727\n",
       "2       KNeighborsClassifier   0.915423  0.767677\n",
       "6         AdaBoostClassifier   0.880597  0.717172\n",
       "0              SGDClassifier   0.781095  0.666667\n",
       "4         LogisticRegression   0.743781  0.656566\n",
       "5     DecisionTreeClassifier   0.766169  0.641414\n",
       "9                 GaussianNB   0.691542  0.626263\n",
       "3                        SVC   0.512438  0.474747\n",
       "7              MLPClassifier   0.514925  0.464646"
      ]
     },
     "execution_count": 172,
     "metadata": {},
     "output_type": "execute_result"
    }
   ],
   "source": [
    "np_data, np_target = DataLoadMNIST(4, 9, 100)\n",
    "X_train, X_test, y_train, y_test = train_test_split(np_data, np_target, test_size=0.33, random_state=42)\n",
    "\n",
    "res = []\n",
    "\n",
    "for clf in classifiers : \n",
    "    clf.fit(X_train, y_train)\n",
    "\n",
    "    y_train_pred = clf.predict(X_train)\n",
    "    y_test_pred = clf.predict(X_test)\n",
    "\n",
    "    train_acc = accuracy_score(y_train, y_train_pred)\n",
    "    test_acc = accuracy_score(y_test, y_test_pred)\n",
    "\n",
    "    res.append({\n",
    "        \"classifier\" : type(clf).__name__,\n",
    "        \"train_acc\" : train_acc,\n",
    "        \"test_acc\" : test_acc\n",
    "    })\n",
    "\n",
    "df = pd.DataFrame(res)\n",
    "df.sort_values(by = ['test_acc'], ascending = False)"
   ]
  },
  {
   "cell_type": "markdown",
   "metadata": {},
   "source": [
    "# Results on 500 * 2 * 3 images"
   ]
  },
  {
   "cell_type": "code",
   "execution_count": 173,
   "metadata": {},
   "outputs": [
    {
     "name": "stderr",
     "output_type": "stream",
     "text": [
      "100%|██████████| 1000/1000 [00:04<00:00, 213.69it/s]\n"
     ]
    },
    {
     "name": "stdout",
     "output_type": "stream",
     "text": [
      "torch.Size([3000, 17, 17])\n"
     ]
    },
    {
     "data": {
      "text/html": [
       "<div>\n",
       "<style scoped>\n",
       "    .dataframe tbody tr th:only-of-type {\n",
       "        vertical-align: middle;\n",
       "    }\n",
       "\n",
       "    .dataframe tbody tr th {\n",
       "        vertical-align: top;\n",
       "    }\n",
       "\n",
       "    .dataframe thead th {\n",
       "        text-align: right;\n",
       "    }\n",
       "</style>\n",
       "<table border=\"1\" class=\"dataframe\">\n",
       "  <thead>\n",
       "    <tr style=\"text-align: right;\">\n",
       "      <th></th>\n",
       "      <th>classifier</th>\n",
       "      <th>train_acc</th>\n",
       "      <th>test_acc</th>\n",
       "    </tr>\n",
       "  </thead>\n",
       "  <tbody>\n",
       "    <tr>\n",
       "      <th>8</th>\n",
       "      <td>GaussianProcessClassifier</td>\n",
       "      <td>1.000000</td>\n",
       "      <td>0.889899</td>\n",
       "    </tr>\n",
       "    <tr>\n",
       "      <th>7</th>\n",
       "      <td>MLPClassifier</td>\n",
       "      <td>0.882587</td>\n",
       "      <td>0.833333</td>\n",
       "    </tr>\n",
       "    <tr>\n",
       "      <th>2</th>\n",
       "      <td>KNeighborsClassifier</td>\n",
       "      <td>0.926368</td>\n",
       "      <td>0.807071</td>\n",
       "    </tr>\n",
       "    <tr>\n",
       "      <th>1</th>\n",
       "      <td>RandomForestClassifier</td>\n",
       "      <td>0.841791</td>\n",
       "      <td>0.803030</td>\n",
       "    </tr>\n",
       "    <tr>\n",
       "      <th>6</th>\n",
       "      <td>AdaBoostClassifier</td>\n",
       "      <td>0.800000</td>\n",
       "      <td>0.738384</td>\n",
       "    </tr>\n",
       "    <tr>\n",
       "      <th>5</th>\n",
       "      <td>DecisionTreeClassifier</td>\n",
       "      <td>0.750249</td>\n",
       "      <td>0.734343</td>\n",
       "    </tr>\n",
       "    <tr>\n",
       "      <th>0</th>\n",
       "      <td>SGDClassifier</td>\n",
       "      <td>0.765174</td>\n",
       "      <td>0.701010</td>\n",
       "    </tr>\n",
       "    <tr>\n",
       "      <th>4</th>\n",
       "      <td>LogisticRegression</td>\n",
       "      <td>0.757711</td>\n",
       "      <td>0.696970</td>\n",
       "    </tr>\n",
       "    <tr>\n",
       "      <th>9</th>\n",
       "      <td>GaussianNB</td>\n",
       "      <td>0.666667</td>\n",
       "      <td>0.636364</td>\n",
       "    </tr>\n",
       "    <tr>\n",
       "      <th>3</th>\n",
       "      <td>SVC</td>\n",
       "      <td>0.518905</td>\n",
       "      <td>0.493939</td>\n",
       "    </tr>\n",
       "  </tbody>\n",
       "</table>\n",
       "</div>"
      ],
      "text/plain": [
       "                  classifier  train_acc  test_acc\n",
       "8  GaussianProcessClassifier   1.000000  0.889899\n",
       "7              MLPClassifier   0.882587  0.833333\n",
       "2       KNeighborsClassifier   0.926368  0.807071\n",
       "1     RandomForestClassifier   0.841791  0.803030\n",
       "6         AdaBoostClassifier   0.800000  0.738384\n",
       "5     DecisionTreeClassifier   0.750249  0.734343\n",
       "0              SGDClassifier   0.765174  0.701010\n",
       "4         LogisticRegression   0.757711  0.696970\n",
       "9                 GaussianNB   0.666667  0.636364\n",
       "3                        SVC   0.518905  0.493939"
      ]
     },
     "execution_count": 173,
     "metadata": {},
     "output_type": "execute_result"
    }
   ],
   "source": [
    "np_data, np_target = DataLoadMNIST(4, 9, 500)\n",
    "X_train, X_test, y_train, y_test = train_test_split(np_data, np_target, test_size=0.33, random_state=42)\n",
    "\n",
    "res = []\n",
    "\n",
    "for clf in classifiers : \n",
    "    clf.fit(X_train, y_train)\n",
    "\n",
    "    y_train_pred = clf.predict(X_train)\n",
    "    y_test_pred = clf.predict(X_test)\n",
    "\n",
    "    train_acc = accuracy_score(y_train, y_train_pred)\n",
    "    test_acc = accuracy_score(y_test, y_test_pred)\n",
    "\n",
    "    res.append({\n",
    "        \"classifier\" : type(clf).__name__,\n",
    "        \"train_acc\" : train_acc,\n",
    "        \"test_acc\" : test_acc\n",
    "    })\n",
    "\n",
    "df = pd.DataFrame(res)\n",
    "df.sort_values(by = ['test_acc'], ascending = False)"
   ]
  }
 ],
 "metadata": {
  "kernelspec": {
   "display_name": "myenv",
   "language": "python",
   "name": "python3"
  },
  "language_info": {
   "codemirror_mode": {
    "name": "ipython",
    "version": 3
   },
   "file_extension": ".py",
   "mimetype": "text/x-python",
   "name": "python",
   "nbconvert_exporter": "python",
   "pygments_lexer": "ipython3",
   "version": "3.12.1"
  }
 },
 "nbformat": 4,
 "nbformat_minor": 2
}
